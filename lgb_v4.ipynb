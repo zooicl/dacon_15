{
 "cells": [
  {
   "cell_type": "code",
   "execution_count": 1,
   "metadata": {
    "ExecuteTime": {
     "end_time": "2020-02-06T05:08:01.363131Z",
     "start_time": "2020-02-06T05:08:00.732139Z"
    }
   },
   "outputs": [
    {
     "name": "stderr",
     "output_type": "stream",
     "text": [
      "/home/aiden/anaconda3/lib/python3.7/site-packages/sklearn/externals/joblib/__init__.py:15: DeprecationWarning: sklearn.externals.joblib is deprecated in 0.21 and will be removed in 0.23. Please import this functionality directly from joblib, which can be installed with: pip install joblib. If this warning is raised when loading pickled models, you may need to re-serialize those models with scikit-learn 0.21+.\n",
      "  warnings.warn(msg, category=DeprecationWarning)\n"
     ]
    }
   ],
   "source": [
    "import os\n",
    "import pandas as pd \n",
    "import numpy as np\n",
    "import multiprocessing # 여러 개의 일꾼 (cpu)들에게 작업을 분산시키는 역할\n",
    "from multiprocessing import Pool \n",
    "from functools import partial # 함수가 받는 인자들 중 몇개를 고정 시켜서 새롭게 파생된 함수를 형성하는 역할\n",
    "from data_loader import data_loader_v2 # 자체적으로 만든 data loader version 2.0 ([데이콘 15회 대회] 데이터 설명 및 데이터 불러오기 영상 참조)\n",
    "\n",
    "from sklearn.ensemble import RandomForestClassifier\n",
    "import joblib # 모델을 저장하고 불러오는 역\n",
    "from datetime import datetime\n",
    "\n",
    "import lightgbm as lgb\n",
    "\n",
    "from sklearn.model_selection import train_test_split\n",
    "from sklearn.model_selection import StratifiedKFold\n",
    "from tqdm import tqdm_notebook\n",
    "\n",
    "from sklearn.metrics import log_loss\n",
    "\n",
    "from tools import eval_summary, save_feature_importance, merge_preds, report\n",
    "\n"
   ]
  },
  {
   "cell_type": "code",
   "execution_count": 2,
   "metadata": {
    "ExecuteTime": {
     "end_time": "2020-02-06T05:08:01.367274Z",
     "start_time": "2020-02-06T05:08:01.364701Z"
    }
   },
   "outputs": [],
   "source": [
    "train_folder = 'data/train/'\n",
    "test_folder = 'data/test/'\n",
    "train_label_path = 'data/train_label.csv'"
   ]
  },
  {
   "cell_type": "code",
   "execution_count": 3,
   "metadata": {
    "ExecuteTime": {
     "end_time": "2020-02-06T05:08:01.380889Z",
     "start_time": "2020-02-06T05:08:01.368849Z"
    }
   },
   "outputs": [],
   "source": [
    "train_list = os.listdir(train_folder)\n",
    "test_list = os.listdir(test_folder)\n",
    "train_label = pd.read_csv(train_label_path, index_col=0)"
   ]
  },
  {
   "cell_type": "code",
   "execution_count": 4,
   "metadata": {
    "ExecuteTime": {
     "end_time": "2020-02-06T05:08:01.386596Z",
     "start_time": "2020-02-06T05:08:01.382018Z"
    }
   },
   "outputs": [],
   "source": [
    "num_class = len(train_label['label'].unique())"
   ]
  },
  {
   "cell_type": "code",
   "execution_count": 5,
   "metadata": {
    "ExecuteTime": {
     "end_time": "2020-02-06T05:08:02.596152Z",
     "start_time": "2020-02-06T05:08:02.586670Z"
    }
   },
   "outputs": [],
   "source": [
    "def data_loader_all(func, files, folder='', train_label=None, event_time=10, nrows=60, use_cols=[]):   \n",
    "    func_fixed = partial(func, folder=folder, train_label=train_label, nrows=nrows, use_cols=use_cols)     \n",
    "    if __name__ == '__main__':\n",
    "        pool = Pool(processes=multiprocessing.cpu_count()) \n",
    "        df_list = list(pool.imap(func_fixed, files)) \n",
    "        pool.close()\n",
    "        pool.join()        \n",
    "    combined_df = pd.concat(df_list)    \n",
    "    return combined_df\n",
    "\n",
    "\n",
    "\n",
    "def _data_loader(file_name, folder='', train_label=None, nrows=60, use_cols=[]):\n",
    "    file_id = int(file_name.split('.')[0]) \n",
    "    df = pd.read_csv(folder+file_name, nrows=nrows) \n",
    "    df = df.replace('.*', 0, regex=True).fillna(0) \n",
    "    \n",
    "    df['id'] = file_id\n",
    "    \n",
    "        \n",
    "    cols = ['time', 'id'] + use_cols\n",
    "    \n",
    "    df = df[cols]   \n",
    "    \n",
    "    df['time'] = df['time'].apply(lambda x: f't{x:03}')\n",
    "    df_p = df.pivot('id', 'time', use_cols)\n",
    "    df_p.columns = ['_'.join(col) for col in df_p.columns]\n",
    "    \n",
    "    \n",
    "    ##\n",
    "    \n",
    "    if type(train_label) != type(None):\n",
    "        label = train_label.loc[file_id]['label'] \n",
    "        df_p['label'] = label\n",
    "    \n",
    "    return df_p"
   ]
  },
  {
   "cell_type": "code",
   "execution_count": 6,
   "metadata": {
    "ExecuteTime": {
     "end_time": "2020-02-06T05:09:33.027306Z",
     "start_time": "2020-02-06T05:08:04.783821Z"
    }
   },
   "outputs": [
    {
     "name": "stdout",
     "output_type": "stream",
     "text": [
      "(828, 181)\n"
     ]
    }
   ],
   "source": [
    "event_time = 10\n",
    "nrows = 60\n",
    "use_cols = ['V3239', 'V3237', 'V3238']\n",
    "train = data_loader_all(_data_loader, train_list, folder=train_folder, train_label=train_label, \n",
    "                           event_time=event_time, nrows=nrows, use_cols=use_cols)\n",
    "print(train.shape)"
   ]
  },
  {
   "cell_type": "code",
   "execution_count": 7,
   "metadata": {
    "ExecuteTime": {
     "end_time": "2020-02-06T05:10:49.687460Z",
     "start_time": "2020-02-06T05:09:33.028373Z"
    }
   },
   "outputs": [
    {
     "name": "stdout",
     "output_type": "stream",
     "text": [
      "(720, 180)\n"
     ]
    }
   ],
   "source": [
    "test = data_loader_all(_data_loader, test_list, folder=test_folder, train_label=None, \n",
    "                       event_time=10, nrows=None, use_cols=use_cols)\n",
    "print(test.shape)\n"
   ]
  },
  {
   "cell_type": "code",
   "execution_count": 8,
   "metadata": {
    "ExecuteTime": {
     "end_time": "2020-02-06T05:10:49.704173Z",
     "start_time": "2020-02-06T05:10:49.688383Z"
    },
    "scrolled": true
   },
   "outputs": [
    {
     "data": {
      "text/html": [
       "<div>\n",
       "<style scoped>\n",
       "    .dataframe tbody tr th:only-of-type {\n",
       "        vertical-align: middle;\n",
       "    }\n",
       "\n",
       "    .dataframe tbody tr th {\n",
       "        vertical-align: top;\n",
       "    }\n",
       "\n",
       "    .dataframe thead th {\n",
       "        text-align: right;\n",
       "    }\n",
       "</style>\n",
       "<table border=\"1\" class=\"dataframe\">\n",
       "  <thead>\n",
       "    <tr style=\"text-align: right;\">\n",
       "      <th></th>\n",
       "      <th>id</th>\n",
       "      <th>V3239_t000</th>\n",
       "      <th>V3239_t001</th>\n",
       "      <th>V3239_t002</th>\n",
       "      <th>V3239_t003</th>\n",
       "      <th>V3239_t004</th>\n",
       "      <th>V3239_t005</th>\n",
       "      <th>V3239_t006</th>\n",
       "      <th>V3239_t007</th>\n",
       "      <th>V3239_t008</th>\n",
       "      <th>...</th>\n",
       "      <th>V3238_t051</th>\n",
       "      <th>V3238_t052</th>\n",
       "      <th>V3238_t053</th>\n",
       "      <th>V3238_t054</th>\n",
       "      <th>V3238_t055</th>\n",
       "      <th>V3238_t056</th>\n",
       "      <th>V3238_t057</th>\n",
       "      <th>V3238_t058</th>\n",
       "      <th>V3238_t059</th>\n",
       "      <th>label</th>\n",
       "    </tr>\n",
       "  </thead>\n",
       "  <tbody>\n",
       "    <tr>\n",
       "      <td>0</td>\n",
       "      <td>105</td>\n",
       "      <td>16.564892</td>\n",
       "      <td>16.558286</td>\n",
       "      <td>16.558963</td>\n",
       "      <td>16.560084</td>\n",
       "      <td>16.563487</td>\n",
       "      <td>16.559680</td>\n",
       "      <td>16.555753</td>\n",
       "      <td>16.558892</td>\n",
       "      <td>16.560912</td>\n",
       "      <td>...</td>\n",
       "      <td>16.551255</td>\n",
       "      <td>16.562519</td>\n",
       "      <td>16.564556</td>\n",
       "      <td>16.555987</td>\n",
       "      <td>16.557727</td>\n",
       "      <td>16.551886</td>\n",
       "      <td>16.539071</td>\n",
       "      <td>16.541303</td>\n",
       "      <td>16.561505</td>\n",
       "      <td>77</td>\n",
       "    </tr>\n",
       "    <tr>\n",
       "      <td>1</td>\n",
       "      <td>617</td>\n",
       "      <td>16.563824</td>\n",
       "      <td>16.563763</td>\n",
       "      <td>16.563763</td>\n",
       "      <td>16.562532</td>\n",
       "      <td>16.559973</td>\n",
       "      <td>16.558080</td>\n",
       "      <td>16.557836</td>\n",
       "      <td>16.565339</td>\n",
       "      <td>16.561291</td>\n",
       "      <td>...</td>\n",
       "      <td>16.558306</td>\n",
       "      <td>16.567346</td>\n",
       "      <td>16.554973</td>\n",
       "      <td>16.552679</td>\n",
       "      <td>16.573336</td>\n",
       "      <td>16.569496</td>\n",
       "      <td>16.570331</td>\n",
       "      <td>16.553238</td>\n",
       "      <td>16.564369</td>\n",
       "      <td>114</td>\n",
       "    </tr>\n",
       "    <tr>\n",
       "      <td>2</td>\n",
       "      <td>12</td>\n",
       "      <td>16.564937</td>\n",
       "      <td>16.562374</td>\n",
       "      <td>16.562940</td>\n",
       "      <td>16.563478</td>\n",
       "      <td>16.557728</td>\n",
       "      <td>16.869688</td>\n",
       "      <td>16.841234</td>\n",
       "      <td>16.826543</td>\n",
       "      <td>16.810714</td>\n",
       "      <td>...</td>\n",
       "      <td>16.598243</td>\n",
       "      <td>16.582688</td>\n",
       "      <td>16.594089</td>\n",
       "      <td>16.605097</td>\n",
       "      <td>16.600743</td>\n",
       "      <td>16.591576</td>\n",
       "      <td>16.571638</td>\n",
       "      <td>16.595281</td>\n",
       "      <td>16.583680</td>\n",
       "      <td>132</td>\n",
       "    </tr>\n",
       "    <tr>\n",
       "      <td>3</td>\n",
       "      <td>465</td>\n",
       "      <td>16.559650</td>\n",
       "      <td>16.561563</td>\n",
       "      <td>16.563542</td>\n",
       "      <td>16.556449</td>\n",
       "      <td>16.559149</td>\n",
       "      <td>16.563376</td>\n",
       "      <td>16.558738</td>\n",
       "      <td>16.560629</td>\n",
       "      <td>16.558002</td>\n",
       "      <td>...</td>\n",
       "      <td>16.570170</td>\n",
       "      <td>16.570964</td>\n",
       "      <td>16.582383</td>\n",
       "      <td>16.562890</td>\n",
       "      <td>16.573013</td>\n",
       "      <td>16.561436</td>\n",
       "      <td>16.552583</td>\n",
       "      <td>16.563870</td>\n",
       "      <td>16.543884</td>\n",
       "      <td>4</td>\n",
       "    </tr>\n",
       "    <tr>\n",
       "      <td>4</td>\n",
       "      <td>313</td>\n",
       "      <td>16.561392</td>\n",
       "      <td>16.561237</td>\n",
       "      <td>16.555722</td>\n",
       "      <td>16.565120</td>\n",
       "      <td>16.560582</td>\n",
       "      <td>16.558743</td>\n",
       "      <td>16.557365</td>\n",
       "      <td>16.562224</td>\n",
       "      <td>16.559725</td>\n",
       "      <td>...</td>\n",
       "      <td>16.736279</td>\n",
       "      <td>16.721753</td>\n",
       "      <td>16.746977</td>\n",
       "      <td>16.678755</td>\n",
       "      <td>16.644380</td>\n",
       "      <td>16.662776</td>\n",
       "      <td>16.681025</td>\n",
       "      <td>16.665391</td>\n",
       "      <td>16.642454</td>\n",
       "      <td>22</td>\n",
       "    </tr>\n",
       "  </tbody>\n",
       "</table>\n",
       "<p>5 rows × 182 columns</p>\n",
       "</div>"
      ],
      "text/plain": [
       "    id  V3239_t000  V3239_t001  V3239_t002  V3239_t003  V3239_t004  \\\n",
       "0  105   16.564892   16.558286   16.558963   16.560084   16.563487   \n",
       "1  617   16.563824   16.563763   16.563763   16.562532   16.559973   \n",
       "2   12   16.564937   16.562374   16.562940   16.563478   16.557728   \n",
       "3  465   16.559650   16.561563   16.563542   16.556449   16.559149   \n",
       "4  313   16.561392   16.561237   16.555722   16.565120   16.560582   \n",
       "\n",
       "   V3239_t005  V3239_t006  V3239_t007  V3239_t008  ...  V3238_t051  \\\n",
       "0   16.559680   16.555753   16.558892   16.560912  ...   16.551255   \n",
       "1   16.558080   16.557836   16.565339   16.561291  ...   16.558306   \n",
       "2   16.869688   16.841234   16.826543   16.810714  ...   16.598243   \n",
       "3   16.563376   16.558738   16.560629   16.558002  ...   16.570170   \n",
       "4   16.558743   16.557365   16.562224   16.559725  ...   16.736279   \n",
       "\n",
       "   V3238_t052  V3238_t053  V3238_t054  V3238_t055  V3238_t056  V3238_t057  \\\n",
       "0   16.562519   16.564556   16.555987   16.557727   16.551886   16.539071   \n",
       "1   16.567346   16.554973   16.552679   16.573336   16.569496   16.570331   \n",
       "2   16.582688   16.594089   16.605097   16.600743   16.591576   16.571638   \n",
       "3   16.570964   16.582383   16.562890   16.573013   16.561436   16.552583   \n",
       "4   16.721753   16.746977   16.678755   16.644380   16.662776   16.681025   \n",
       "\n",
       "   V3238_t058  V3238_t059  label  \n",
       "0   16.541303   16.561505     77  \n",
       "1   16.553238   16.564369    114  \n",
       "2   16.595281   16.583680    132  \n",
       "3   16.563870   16.543884      4  \n",
       "4   16.665391   16.642454     22  \n",
       "\n",
       "[5 rows x 182 columns]"
      ]
     },
     "execution_count": 8,
     "metadata": {},
     "output_type": "execute_result"
    }
   ],
   "source": [
    "train = train.reset_index()\n",
    "train.head(5)"
   ]
  },
  {
   "cell_type": "code",
   "execution_count": 9,
   "metadata": {
    "ExecuteTime": {
     "end_time": "2020-02-06T05:11:06.767446Z",
     "start_time": "2020-02-06T05:11:06.763398Z"
    }
   },
   "outputs": [
    {
     "data": {
      "text/plain": [
       "180"
      ]
     },
     "execution_count": 9,
     "metadata": {},
     "output_type": "execute_result"
    }
   ],
   "source": [
    "fea_cols = [c for c in train.columns if c[0] == 'V']\n",
    "len(fea_cols)"
   ]
  },
  {
   "cell_type": "code",
   "execution_count": null,
   "metadata": {
    "ExecuteTime": {
     "end_time": "2020-02-04T02:58:30.747560Z",
     "start_time": "2020-02-04T02:58:30.738744Z"
    }
   },
   "outputs": [],
   "source": [
    "# zero_cols = joblib.load('zero_cols.bin')\n",
    "# fea_cols = [c for c in fea_cols if c not in zero_cols]"
   ]
  },
  {
   "cell_type": "code",
   "execution_count": null,
   "metadata": {
    "ExecuteTime": {
     "end_time": "2020-02-04T02:58:30.752935Z",
     "start_time": "2020-02-04T02:58:30.748562Z"
    }
   },
   "outputs": [],
   "source": [
    "# use_cols = joblib.load('use_cols.bin')\n",
    "# fea_cols = use_cols[:500]"
   ]
  },
  {
   "cell_type": "code",
   "execution_count": 17,
   "metadata": {
    "ExecuteTime": {
     "end_time": "2020-02-04T05:07:30.875307Z",
     "start_time": "2020-02-04T05:07:30.872388Z"
    }
   },
   "outputs": [],
   "source": [
    "# fea_cols = cols"
   ]
  },
  {
   "cell_type": "code",
   "execution_count": 10,
   "metadata": {
    "ExecuteTime": {
     "end_time": "2020-02-06T05:11:13.340457Z",
     "start_time": "2020-02-06T05:11:13.337069Z"
    }
   },
   "outputs": [
    {
     "data": {
      "text/plain": [
       "180"
      ]
     },
     "execution_count": 10,
     "metadata": {},
     "output_type": "execute_result"
    }
   ],
   "source": [
    "len(fea_cols)"
   ]
  },
  {
   "cell_type": "code",
   "execution_count": 11,
   "metadata": {
    "ExecuteTime": {
     "end_time": "2020-02-06T05:11:14.779770Z",
     "start_time": "2020-02-06T05:11:14.773868Z"
    }
   },
   "outputs": [
    {
     "data": {
      "text/plain": [
       "110    24\n",
       "17     21\n",
       "114    20\n",
       "118    20\n",
       "113    19\n",
       "       ..\n",
       "134     1\n",
       "135     1\n",
       "137     1\n",
       "138     1\n",
       "98      1\n",
       "Name: label, Length: 198, dtype: int64"
      ]
     },
     "execution_count": 11,
     "metadata": {},
     "output_type": "execute_result"
    }
   ],
   "source": [
    "train['label'].value_counts(dropna=False)"
   ]
  },
  {
   "cell_type": "code",
   "execution_count": 20,
   "metadata": {
    "ExecuteTime": {
     "end_time": "2020-02-04T05:07:33.569322Z",
     "start_time": "2020-02-04T05:07:33.566765Z"
    }
   },
   "outputs": [],
   "source": [
    "# X_train, X_test, y_train, y_test = train_test_split(X, y, test_size=0.2, random_state=81511991154 % 2**32-1)\n",
    "\n",
    "# X_train.shape, X_test.shape"
   ]
  },
  {
   "cell_type": "code",
   "execution_count": 12,
   "metadata": {
    "ExecuteTime": {
     "end_time": "2020-02-06T05:17:53.550875Z",
     "start_time": "2020-02-06T05:17:53.544011Z"
    }
   },
   "outputs": [
    {
     "name": "stdout",
     "output_type": "stream",
     "text": [
      "model_ts 20200206T141753\n",
      "{'boosting': 'gbdt', 'num_leaves': 7, 'num_class': 198, 'objective': 'multiclass', 'metric': 'multi_logloss', 'num_threads': 16, 'learning_rate': 0.01, 'is_unbalance': True, 'bagging_fraction': 1.0, 'feature_fraction': 1.0, 'initscore_filename': '', 'device_type': 'gpu'}\n",
      "{}\n",
      "num_round: 5000\n"
     ]
    }
   ],
   "source": [
    "model_ts = datetime.now().strftime('%Y%m%dT%H%M%S')\n",
    "print('model_ts', model_ts)\n",
    "\n",
    "initscore_filename = ''\n",
    "params = {\n",
    "    'boosting':'gbdt',\n",
    "#     'boosting':'dart',\n",
    "#     'boosting':'goss',\n",
    "    'num_leaves': 7,\n",
    "#     'max_depth': 3,\n",
    "    'num_class':num_class,\n",
    "    'objective': 'multiclass',\n",
    "    'metric':'multi_logloss',\n",
    "    'num_threads': 16,\n",
    "    'learning_rate': 0.01,\n",
    "    'is_unbalance': True,\n",
    "#     'scale_pos_weight':200,\n",
    "    'bagging_fraction':1.0,\n",
    "#     'bagging_freq':5,\n",
    "    'feature_fraction':1.0,\n",
    "    'initscore_filename':initscore_filename,\n",
    "#     'lambda_l1':200,\n",
    "#     'lambda_l2':20,\n",
    "    'device_type':'gpu',\n",
    "#     'tree_learner':'data',\n",
    "\n",
    "}\n",
    "print(params)\n",
    "\n",
    "data_params = {\n",
    "#     'max_bin':127,\n",
    "#     'enable_bundle': False,\n",
    "}\n",
    "print(data_params)\n",
    "\n",
    "num_round = 5000\n",
    "print('num_round:', num_round)"
   ]
  },
  {
   "cell_type": "code",
   "execution_count": null,
   "metadata": {
    "ExecuteTime": {
     "end_time": "2020-02-06T05:28:04.036348Z",
     "start_time": "2020-02-06T05:20:55.149809Z"
    }
   },
   "outputs": [],
   "source": [
    "model = None\n",
    "submit_csv = []\n",
    "\n",
    "X_train = train[fea_cols]\n",
    "y_train = train['label']\n",
    "\n",
    "print(X_train.shape)\n",
    "\n",
    "train_set = lgb.Dataset(X_train, label=y_train, params=data_params)\n",
    "val_set = lgb.Dataset(X_test, label=y_test, params=data_params)\n",
    "\n",
    "evals_result = {}\n",
    "model = lgb.train(params, train_set, num_round, early_stopping_rounds=200, \n",
    "                        valid_sets=[train_set],\n",
    "                        verbose_eval=50,\n",
    "                        evals_result=evals_result,\n",
    "#                             init_model=model,\n",
    "                       )"
   ]
  },
  {
   "cell_type": "code",
   "execution_count": 15,
   "metadata": {
    "ExecuteTime": {
     "end_time": "2020-02-06T05:28:40.263804Z",
     "start_time": "2020-02-06T05:28:32.293302Z"
    },
    "scrolled": true
   },
   "outputs": [
    {
     "name": "stdout",
     "output_type": "stream",
     "text": [
      "20200206T141753_4.5229651113300277e-05\n",
      "id\n",
      "828     1.0\n",
      "829     1.0\n",
      "830     1.0\n",
      "831     1.0\n",
      "832     1.0\n",
      "       ... \n",
      "1543    1.0\n",
      "1544    1.0\n",
      "1545    1.0\n",
      "1546    1.0\n",
      "1547    1.0\n",
      "Length: 720, dtype: float64\n",
      "               0             1             2             3             4    \\\n",
      "id                                                                           \n",
      "828   1.173297e-07  1.952713e-07  1.136406e-07  1.471526e-07  2.953771e-07   \n",
      "829   1.529063e-03  1.410625e-04  5.619636e-04  1.761505e-04  4.209348e-04   \n",
      "830   1.909268e-04  1.787835e-04  1.944110e-04  1.975971e-04  2.657966e-03   \n",
      "831   1.428303e-03  1.263564e-03  1.794180e-03  2.989128e-03  1.003132e-02   \n",
      "832   6.525820e-04  6.719813e-04  1.319957e-03  5.807292e-04  2.994565e-03   \n",
      "...            ...           ...           ...           ...           ...   \n",
      "1543  5.444246e-04  1.134919e-03  4.661991e-04  3.273118e-04  4.529080e-04   \n",
      "1544  9.840530e-08  8.555108e-08  9.708615e-08  1.620849e-07  1.165334e-07   \n",
      "1545  8.343374e-03  4.346762e-04  5.081410e-04  6.086211e-04  7.682111e-04   \n",
      "1546  6.408907e-04  1.595952e-04  3.254722e-04  3.423798e-04  1.735811e-03   \n",
      "1547  6.283249e-04  5.253581e-04  6.017717e-04  6.983037e-04  5.719265e-04   \n",
      "\n",
      "               5             6             7         8             9    ...  \\\n",
      "id                                                                      ...   \n",
      "828   1.321953e-07  5.272512e-07  3.985028e-07  0.000002  8.365854e-08  ...   \n",
      "829   1.014488e-03  2.893740e-04  3.006875e-03  0.000795  1.157887e-03  ...   \n",
      "830   1.490242e-04  4.075551e-04  1.833416e-04  0.000425  6.125206e-04  ...   \n",
      "831   1.057430e-03  2.524051e-03  2.882810e-03  0.000916  9.006123e-04  ...   \n",
      "832   5.737714e-02  8.961111e-04  6.840848e-03  0.011651  1.519712e-03  ...   \n",
      "...            ...           ...           ...       ...           ...  ...   \n",
      "1543  1.174303e-03  4.942406e-04  8.531301e-04  0.001637  6.799196e-04  ...   \n",
      "1544  1.044707e-07  8.754889e-08  2.987656e-07  0.000003  2.156103e-06  ...   \n",
      "1545  5.215695e-04  6.115344e-04  5.773650e-04  0.013569  6.330279e-03  ...   \n",
      "1546  1.939401e-04  2.071359e-04  4.360609e-02  0.001245  4.793742e-04  ...   \n",
      "1547  1.165728e-03  1.206726e-03  1.289552e-03  0.002323  1.453222e-03  ...   \n",
      "\n",
      "               188           189           190           191           192  \\\n",
      "id                                                                           \n",
      "828   2.343890e-07  8.724841e-08  6.777531e-07  9.971215e-08  5.554499e-07   \n",
      "829   1.359133e-04  5.732074e-04  3.044691e-04  2.893930e-04  6.121601e-04   \n",
      "830   1.407346e-04  1.450192e-04  1.668177e-04  1.442959e-04  2.186147e-04   \n",
      "831   1.222413e-03  1.007173e-03  9.272329e-04  7.881805e-04  1.274741e-03   \n",
      "832   2.299923e-03  2.569704e-03  7.115512e-04  6.431329e-04  9.350687e-04   \n",
      "...            ...           ...           ...           ...           ...   \n",
      "1543  2.892911e-04  2.981091e-04  3.460081e-04  2.962687e-04  2.951828e-03   \n",
      "1544  9.999303e-01  7.404550e-08  3.783342e-07  1.204752e-07  1.020769e-07   \n",
      "1545  1.727606e-03  9.872196e-04  4.195934e-04  3.924079e-03  9.898253e-04   \n",
      "1546  1.254479e-04  4.718350e-04  1.980363e-04  2.757371e-03  2.233449e-04   \n",
      "1547  4.619135e-04  5.821183e-04  5.898695e-04  4.736026e-04  6.328705e-04   \n",
      "\n",
      "           193           194           195           196           197  \n",
      "id                                                                      \n",
      "828   0.000001  1.594626e-07  7.016882e-08  5.382038e-08  1.108596e-07  \n",
      "829   0.024404  3.442849e-03  1.153206e-04  8.816321e-05  3.646868e-04  \n",
      "830   0.000262  6.872958e-04  1.386475e-04  1.649263e-04  1.547663e-04  \n",
      "831   0.001099  8.245406e-04  7.573924e-04  5.809420e-04  8.453995e-04  \n",
      "832   0.001236  5.107414e-04  5.034161e-04  5.195857e-04  5.043205e-03  \n",
      "...        ...           ...           ...           ...           ...  \n",
      "1543  0.001552  3.103628e-04  5.502723e-04  2.705665e-04  6.013360e-04  \n",
      "1544  0.000001  7.707254e-08  2.499314e-07  5.430356e-08  3.053099e-07  \n",
      "1545  0.002129  1.747462e-03  3.426839e-04  2.628539e-04  1.534473e-03  \n",
      "1546  0.000706  1.345553e-04  1.597803e-03  1.368862e-04  2.775412e-04  \n",
      "1547  0.000624  7.641128e-04  4.550512e-04  3.488234e-04  5.079688e-04  \n",
      "\n",
      "[720 rows x 198 columns]\n"
     ]
    }
   ],
   "source": [
    "model_tag ='{}_{}'.format(model_ts,\n",
    "                             evals_result['training']['multi_logloss'][model.best_iteration-1]\n",
    "                            )\n",
    "print(model_tag)\n",
    "\n",
    "joblib.dump(model, 'model/{}.model'.format(model_tag))\n",
    "\n",
    "\n",
    "pred = model.predict(test[fea_cols])\n",
    "\n",
    "submission = pd.DataFrame(data=pred)\n",
    "submission.index = test.index\n",
    "submission.index.name = 'id'\n",
    "submission = submission.sort_index()\n",
    "submission = submission.groupby('id').mean()\n",
    "\n",
    "csv_path = 'submit/{}.csv'.format(model_tag)\n",
    "submit_csv.append(csv_path)\n",
    "submission.to_csv(    csv_path, index=True) \n",
    "\n",
    "print(submission.sum(axis=1))\n",
    "print(submission)"
   ]
  },
  {
   "cell_type": "code",
   "execution_count": 13,
   "metadata": {
    "ExecuteTime": {
     "end_time": "2020-02-06T05:19:07.158666Z",
     "start_time": "2020-02-06T05:17:56.180699Z"
    }
   },
   "outputs": [
    {
     "data": {
      "application/vnd.jupyter.widget-view+json": {
       "model_id": "d4ea5ff2f67f41c18d8ef106ed114113",
       "version_major": 2,
       "version_minor": 0
      },
      "text/plain": [
       "HBox(children=(IntProgress(value=0, description='CV', max=10, style=ProgressStyle(description_width='initial')…"
      ]
     },
     "metadata": {},
     "output_type": "display_data"
    },
    {
     "name": "stderr",
     "output_type": "stream",
     "text": [
      "/home/aiden/anaconda3/lib/python3.7/site-packages/sklearn/model_selection/_split.py:657: Warning: The least populated class in y has only 1 members, which is too few. The minimum number of members in any class cannot be less than n_splits=10.\n",
      "  % (min_groups, self.n_splits)), Warning)\n"
     ]
    },
    {
     "name": "stdout",
     "output_type": "stream",
     "text": [
      "(734, 180) (94, 180)\n",
      "Training until validation scores don't improve for 200 rounds\n",
      "[50]\ttraining's multi_logloss: 2.64769\tvalid_1's multi_logloss: 6.59114\n",
      "[100]\ttraining's multi_logloss: 1.62915\tvalid_1's multi_logloss: 6.59394\n",
      "[150]\ttraining's multi_logloss: 1.05809\tvalid_1's multi_logloss: 6.61689\n",
      "[200]\ttraining's multi_logloss: 0.70764\tvalid_1's multi_logloss: 6.6536\n",
      "[250]\ttraining's multi_logloss: 0.481514\tvalid_1's multi_logloss: 6.70741\n",
      "Early stopping, best iteration is:\n",
      "[81]\ttraining's multi_logloss: 1.9418\tvalid_1's multi_logloss: 6.58614\n",
      "20200206T141753_0_6.586139127087876_1.9418004339346369\n",
      "id\n",
      "828     1.0\n",
      "829     1.0\n",
      "830     1.0\n",
      "831     1.0\n",
      "832     1.0\n",
      "       ... \n",
      "1543    1.0\n",
      "1544    1.0\n",
      "1545    1.0\n",
      "1546    1.0\n",
      "1547    1.0\n",
      "Length: 720, dtype: float64\n",
      "           0         1         2         3         4         5         6    \\\n",
      "id                                                                           \n",
      "828   0.001980  0.000991  0.000991  0.002969  0.001980  0.002969  0.004520   \n",
      "829   0.003913  0.000799  0.001593  0.002396  0.001598  0.002396  0.002032   \n",
      "830   0.002222  0.001111  0.001111  0.003331  0.015022  0.003331  0.002222   \n",
      "831   0.002095  0.001048  0.001976  0.003980  0.002822  0.003141  0.002597   \n",
      "832   0.001711  0.000856  0.000856  0.002566  0.001711  0.022913  0.002576   \n",
      "...        ...       ...       ...       ...       ...       ...       ...   \n",
      "1543  0.002083  0.001042  0.001042  0.003122  0.002083  0.005520  0.002716   \n",
      "1544  0.001830  0.000916  0.000916  0.004481  0.001830  0.002744  0.001967   \n",
      "1545  0.008557  0.000933  0.000933  0.003275  0.002136  0.002796  0.001865   \n",
      "1546  0.002867  0.000857  0.000857  0.002570  0.001714  0.002570  0.003470   \n",
      "1547  0.001976  0.000989  0.001113  0.002963  0.001976  0.002963  0.001975   \n",
      "\n",
      "           7         8         9    ...       188       189       190  \\\n",
      "id                                  ...                                 \n",
      "828   0.008282  0.010247  0.001980  ...  0.001841  0.001558  0.002213   \n",
      "829   0.002536  0.009073  0.001959  ...  0.000799  0.001935  0.000799   \n",
      "830   0.003331  0.012338  0.002222  ...  0.001111  0.001111  0.001111   \n",
      "831   0.004375  0.010428  0.002095  ...  0.001048  0.001048  0.001048   \n",
      "832   0.005206  0.021543  0.002369  ...  0.001892  0.001475  0.000856   \n",
      "...        ...       ...       ...  ...       ...       ...       ...   \n",
      "1543  0.004204  0.012051  0.002446  ...  0.001042  0.001042  0.001042   \n",
      "1544  0.003695  0.009112  0.002158  ...  0.211816  0.000916  0.001732   \n",
      "1545  0.002796  0.013483  0.006629  ...  0.002062  0.001453  0.000933   \n",
      "1546  0.012156  0.020177  0.001714  ...  0.000857  0.001328  0.000857   \n",
      "1547  0.004628  0.013073  0.001976  ...  0.000989  0.000989  0.000989   \n",
      "\n",
      "           191       192       193       194       195       196       197  \n",
      "id                                                                          \n",
      "828   0.001697  0.002863  0.005041  0.001694  0.000991  0.000991  0.000991  \n",
      "829   0.000799  0.001598  0.005215  0.002203  0.000799  0.000799  0.000867  \n",
      "830   0.001111  0.002222  0.002222  0.001664  0.001111  0.001111  0.001111  \n",
      "831   0.001048  0.002095  0.002095  0.001048  0.001048  0.001048  0.001048  \n",
      "832   0.000856  0.001711  0.001838  0.000856  0.000856  0.000856  0.002020  \n",
      "...        ...       ...       ...       ...       ...       ...       ...  \n",
      "1543  0.001972  0.002083  0.002470  0.001042  0.001852  0.001042  0.001232  \n",
      "1544  0.001002  0.002929  0.001983  0.000916  0.001616  0.000916  0.002093  \n",
      "1545  0.001494  0.001865  0.003321  0.001030  0.000933  0.000933  0.002133  \n",
      "1546  0.001373  0.001714  0.003390  0.000857  0.001947  0.000857  0.000915  \n",
      "1547  0.000989  0.001976  0.001976  0.000989  0.000989  0.000988  0.000989  \n",
      "\n",
      "[720 rows x 198 columns]\n",
      "(729, 180) (99, 180)\n",
      "Training until validation scores don't improve for 200 rounds\n"
     ]
    },
    {
     "ename": "KeyboardInterrupt",
     "evalue": "",
     "output_type": "error",
     "traceback": [
      "\u001b[0;31m---------------------------------------------------------------------------\u001b[0m",
      "\u001b[0;31mKeyboardInterrupt\u001b[0m                         Traceback (most recent call last)",
      "\u001b[0;32m<ipython-input-13-0c855606bb5e>\u001b[0m in \u001b[0;36m<module>\u001b[0;34m\u001b[0m\n\u001b[1;32m     27\u001b[0m                             \u001b[0mvalid_sets\u001b[0m\u001b[0;34m=\u001b[0m\u001b[0;34m[\u001b[0m\u001b[0mtrain_set\u001b[0m\u001b[0;34m,\u001b[0m \u001b[0mval_set\u001b[0m\u001b[0;34m]\u001b[0m\u001b[0;34m,\u001b[0m\u001b[0;34m\u001b[0m\u001b[0;34m\u001b[0m\u001b[0m\n\u001b[1;32m     28\u001b[0m                             \u001b[0mverbose_eval\u001b[0m\u001b[0;34m=\u001b[0m\u001b[0;36m50\u001b[0m\u001b[0;34m,\u001b[0m\u001b[0;34m\u001b[0m\u001b[0;34m\u001b[0m\u001b[0m\n\u001b[0;32m---> 29\u001b[0;31m                             \u001b[0mevals_result\u001b[0m\u001b[0;34m=\u001b[0m\u001b[0mevals_result\u001b[0m\u001b[0;34m,\u001b[0m\u001b[0;34m\u001b[0m\u001b[0;34m\u001b[0m\u001b[0m\n\u001b[0m\u001b[1;32m     30\u001b[0m \u001b[0;31m#                             init_model=model,\u001b[0m\u001b[0;34m\u001b[0m\u001b[0;34m\u001b[0m\u001b[0;34m\u001b[0m\u001b[0m\n\u001b[1;32m     31\u001b[0m                            )\n",
      "\u001b[0;32m~/anaconda3/lib/python3.7/site-packages/lightgbm/engine.py\u001b[0m in \u001b[0;36mtrain\u001b[0;34m(params, train_set, num_boost_round, valid_sets, valid_names, fobj, feval, init_model, feature_name, categorical_feature, early_stopping_rounds, evals_result, verbose_eval, learning_rates, keep_training_booster, callbacks)\u001b[0m\n\u001b[1;32m    247\u001b[0m                                     evaluation_result_list=None))\n\u001b[1;32m    248\u001b[0m \u001b[0;34m\u001b[0m\u001b[0m\n\u001b[0;32m--> 249\u001b[0;31m         \u001b[0mbooster\u001b[0m\u001b[0;34m.\u001b[0m\u001b[0mupdate\u001b[0m\u001b[0;34m(\u001b[0m\u001b[0mfobj\u001b[0m\u001b[0;34m=\u001b[0m\u001b[0mfobj\u001b[0m\u001b[0;34m)\u001b[0m\u001b[0;34m\u001b[0m\u001b[0;34m\u001b[0m\u001b[0m\n\u001b[0m\u001b[1;32m    250\u001b[0m \u001b[0;34m\u001b[0m\u001b[0m\n\u001b[1;32m    251\u001b[0m         \u001b[0mevaluation_result_list\u001b[0m \u001b[0;34m=\u001b[0m \u001b[0;34m[\u001b[0m\u001b[0;34m]\u001b[0m\u001b[0;34m\u001b[0m\u001b[0;34m\u001b[0m\u001b[0m\n",
      "\u001b[0;32m~/anaconda3/lib/python3.7/site-packages/lightgbm/basic.py\u001b[0m in \u001b[0;36mupdate\u001b[0;34m(self, train_set, fobj)\u001b[0m\n\u001b[1;32m   1974\u001b[0m             _safe_call(_LIB.LGBM_BoosterUpdateOneIter(\n\u001b[1;32m   1975\u001b[0m                 \u001b[0mself\u001b[0m\u001b[0;34m.\u001b[0m\u001b[0mhandle\u001b[0m\u001b[0;34m,\u001b[0m\u001b[0;34m\u001b[0m\u001b[0;34m\u001b[0m\u001b[0m\n\u001b[0;32m-> 1976\u001b[0;31m                 ctypes.byref(is_finished)))\n\u001b[0m\u001b[1;32m   1977\u001b[0m             \u001b[0mself\u001b[0m\u001b[0;34m.\u001b[0m\u001b[0m__is_predicted_cur_iter\u001b[0m \u001b[0;34m=\u001b[0m \u001b[0;34m[\u001b[0m\u001b[0;32mFalse\u001b[0m \u001b[0;32mfor\u001b[0m \u001b[0m_\u001b[0m \u001b[0;32min\u001b[0m \u001b[0mrange_\u001b[0m\u001b[0;34m(\u001b[0m\u001b[0mself\u001b[0m\u001b[0;34m.\u001b[0m\u001b[0m__num_dataset\u001b[0m\u001b[0;34m)\u001b[0m\u001b[0;34m]\u001b[0m\u001b[0;34m\u001b[0m\u001b[0;34m\u001b[0m\u001b[0m\n\u001b[1;32m   1978\u001b[0m             \u001b[0;32mreturn\u001b[0m \u001b[0mis_finished\u001b[0m\u001b[0;34m.\u001b[0m\u001b[0mvalue\u001b[0m \u001b[0;34m==\u001b[0m \u001b[0;36m1\u001b[0m\u001b[0;34m\u001b[0m\u001b[0;34m\u001b[0m\u001b[0m\n",
      "\u001b[0;31mKeyboardInterrupt\u001b[0m: "
     ]
    }
   ],
   "source": [
    "model = None\n",
    "submit_csv = []\n",
    "n_splits = 10\n",
    "skf = StratifiedKFold(n_splits=n_splits, random_state=81511991154 % 2**32-1, shuffle=True)\n",
    "\n",
    "cv = 0\n",
    "for train_index, valid_index in tqdm_notebook(skf.split(train.index, train['label'].values), total=n_splits, desc = 'CV'):\n",
    "#     cnt += 1\n",
    "#     print(cnt)\n",
    "#     if cnt < 3:\n",
    "#         continue\n",
    "\n",
    "    \n",
    "    X_train, X_test = train.loc[train_index, fea_cols], train.loc[valid_index, fea_cols] \n",
    "    y_train, y_test = train.loc[train_index,'label'], train.loc[valid_index, 'label']    \n",
    "    \n",
    "    print(X_train.shape, X_test.shape)\n",
    "#     print(y_train.value_counts(dropna=False))\n",
    "#     print(y_test.value_counts(dropna=False))\n",
    "    \n",
    "    \n",
    "    train_set = lgb.Dataset(X_train, label=y_train, params=data_params)\n",
    "    val_set = lgb.Dataset(X_test, label=y_test, params=data_params)\n",
    "\n",
    "    evals_result = {}\n",
    "    model = lgb.train(params, train_set, num_round, early_stopping_rounds=200, \n",
    "                            valid_sets=[train_set, val_set],\n",
    "                            verbose_eval=50,\n",
    "                            evals_result=evals_result,\n",
    "#                             init_model=model,\n",
    "                           )\n",
    "\n",
    "    model_tag ='{}_{}_{}_{}'.format(model_ts, cv,\n",
    "                                 evals_result['valid_1']['multi_logloss'][model.best_iteration-1],\n",
    "                                 evals_result['training']['multi_logloss'][model.best_iteration-1]\n",
    "                                )\n",
    "    print(model_tag)\n",
    "\n",
    "    joblib.dump(model, 'model/{}.model'.format(model_tag))\n",
    "    \n",
    "    \n",
    "    pred = model.predict(test[fea_cols])\n",
    "\n",
    "    submission = pd.DataFrame(data=pred)\n",
    "    submission.index = test.index\n",
    "    submission.index.name = 'id'\n",
    "    submission = submission.sort_index()\n",
    "    submission = submission.groupby('id').mean()\n",
    "\n",
    "    csv_path = 'submit/{}.csv'.format(model_tag)\n",
    "    submit_csv.append(csv_path)\n",
    "    submission.to_csv(    csv_path, index=True) \n",
    "    \n",
    "    print(submission.sum(axis=1))\n",
    "    print(submission)\n",
    "    cv += 1\n",
    "#     break"
   ]
  },
  {
   "cell_type": "code",
   "execution_count": null,
   "metadata": {
    "ExecuteTime": {
     "end_time": "2020-02-04T08:11:58.580421Z",
     "start_time": "2020-02-04T05:09:16.924Z"
    }
   },
   "outputs": [],
   "source": [
    "# submissions = [\n",
    "# 'submit/20200201T193822_0.42165222105307115_0.03657010393259738.csv',\n",
    "# 'submit/20200201T183544_0.4354487978488266_0.04354968619883053.csv',\n",
    "# 'submit/20200201T173725_0.423066834354457_0.03614391993976106.csv',\n",
    "# 'submit/20200201T163343_0.4287587567261741_0.042392138498467166.csv',\n",
    "# 'submit/20200201T153529_0.42326652930531944_0.04098269988118284.csv',\n",
    "# 'submit/20200201T143616_0.4258237823312355_0.04651153387555587.csv',\n",
    "# 'submit/20200201T134047_0.43147156765580946_0.043682031170534714.csv',\n",
    "# 'submit/20200201T125939_0.42958065644660504_0.040012625819045466.csv',\n",
    "# 'submit/20200201T120739_0.42070899280425217_0.03477196302416032.csv',\n",
    "# 'submit/20200201T110556_0.4181683365658109_0.043843902710973416.csv',\n",
    "# ]\n",
    "\n",
    "\n",
    "dfs = [pd.read_csv(s) for s in submit_csv]\n",
    "\n",
    "df_submit = pd.concat(dfs)\n",
    "\n",
    "df_submit = df_submit.groupby('id').mean()\n",
    "\n",
    "df_submit.to_csv('submit/{}_e{}.csv'.format(model_ts, n_splits), index=True) "
   ]
  },
  {
   "cell_type": "code",
   "execution_count": null,
   "metadata": {
    "ExecuteTime": {
     "end_time": "2020-02-04T03:51:41.933456Z",
     "start_time": "2020-02-04T02:55:17.123Z"
    }
   },
   "outputs": [],
   "source": [
    "df_submit.sum(1)"
   ]
  },
  {
   "cell_type": "code",
   "execution_count": null,
   "metadata": {
    "ExecuteTime": {
     "end_time": "2020-02-04T03:51:41.933875Z",
     "start_time": "2020-02-04T02:55:17.124Z"
    }
   },
   "outputs": [],
   "source": [
    "importance_type = 'split'\n",
    "impt_dict = {k:v for k, v in zip(fea_cols, model.feature_importance(importance_type=importance_type))}\n",
    "# sorted(impt_dict.items(), key=(lambda x:x[1]), reverse=True)\n",
    "# zero_cols = []\n",
    "for k, s in sorted(impt_dict.items(), key=(lambda x:x[1]), reverse=False):\n",
    "    if s == 0:\n",
    "        zero_cols.append(k)\n",
    "# joblib.dump(impt_dict, f'model/{file_name}_{importance_type}.pkl')\n",
    "\n",
    "len(zero_cols)"
   ]
  },
  {
   "cell_type": "code",
   "execution_count": null,
   "metadata": {
    "ExecuteTime": {
     "end_time": "2020-02-04T03:51:41.934281Z",
     "start_time": "2020-02-04T02:55:17.126Z"
    },
    "scrolled": true
   },
   "outputs": [],
   "source": [
    "joblib.dump(zero_cols, 'zero_cols.bin')"
   ]
  },
  {
   "cell_type": "code",
   "execution_count": null,
   "metadata": {
    "ExecuteTime": {
     "end_time": "2020-02-04T03:51:41.934676Z",
     "start_time": "2020-02-04T02:55:17.127Z"
    }
   },
   "outputs": [],
   "source": [
    "# model = joblib.load('model/20200130T221520_2.4393985000913667_0.07225009557115544.model')"
   ]
  },
  {
   "cell_type": "code",
   "execution_count": null,
   "metadata": {
    "ExecuteTime": {
     "end_time": "2020-02-04T03:51:41.935081Z",
     "start_time": "2020-02-04T02:55:17.129Z"
    },
    "scrolled": true
   },
   "outputs": [],
   "source": [
    "# pred = model.predict(test)\n",
    "\n",
    "# submission = pd.DataFrame(data=pred)\n",
    "# submission.index = test.index\n",
    "# submission.index.name = 'id'\n",
    "# submission = submission.sort_index()\n",
    "# submission = submission.groupby('id').mean()\n",
    "\n",
    "# submission.to_csv('submit/{}.csv'.format(model_tag), index=True) \n",
    "# model_tag\n",
    "\n",
    "# submission.sum(axis=1)\n",
    "\n",
    "# submission"
   ]
  },
  {
   "cell_type": "code",
   "execution_count": null,
   "metadata": {},
   "outputs": [],
   "source": []
  }
 ],
 "metadata": {
  "kernelspec": {
   "display_name": "Python 3",
   "language": "python",
   "name": "python3"
  },
  "language_info": {
   "codemirror_mode": {
    "name": "ipython",
    "version": 3
   },
   "file_extension": ".py",
   "mimetype": "text/x-python",
   "name": "python",
   "nbconvert_exporter": "python",
   "pygments_lexer": "ipython3",
   "version": "3.7.4"
  },
  "toc": {
   "base_numbering": 1,
   "nav_menu": {},
   "number_sections": true,
   "sideBar": true,
   "skip_h1_title": false,
   "title_cell": "Table of Contents",
   "title_sidebar": "Contents",
   "toc_cell": false,
   "toc_position": {},
   "toc_section_display": true,
   "toc_window_display": false
  }
 },
 "nbformat": 4,
 "nbformat_minor": 2
}
