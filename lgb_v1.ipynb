{
 "cells": [
  {
   "cell_type": "code",
   "execution_count": null,
   "metadata": {
    "ExecuteTime": {
     "end_time": "2020-02-08T03:31:30.213560Z",
     "start_time": "2020-02-08T03:31:29.461329Z"
    }
   },
   "outputs": [],
   "source": [
    "import os\n",
    "import pandas as pd \n",
    "import numpy as np\n",
    "import multiprocessing # 여러 개의 일꾼 (cpu)들에게 작업을 분산시키는 역할\n",
    "from multiprocessing import Pool \n",
    "from functools import partial # 함수가 받는 인자들 중 몇개를 고정 시켜서 새롭게 파생된 함수를 형성하는 역할\n",
    "from data_loader import data_loader_v2 # 자체적으로 만든 data loader version 2.0 ([데이콘 15회 대회] 데이터 설명 및 데이터 불러오기 영상 참조)\n",
    "\n",
    "from sklearn.ensemble import RandomForestClassifier\n",
    "import joblib # 모델을 저장하고 불러오는 역\n",
    "from datetime import datetime\n",
    "\n",
    "import lightgbm as lgb\n",
    "\n",
    "from sklearn.model_selection import train_test_split\n",
    "from sklearn.model_selection import StratifiedKFold\n",
    "from tqdm import tqdm_notebook\n",
    "\n",
    "from sklearn.metrics import log_loss\n",
    "\n",
    "from tools import eval_summary, save_feature_importance, merge_preds, report\n",
    "\n"
   ]
  },
  {
   "cell_type": "code",
   "execution_count": null,
   "metadata": {
    "ExecuteTime": {
     "end_time": "2020-02-08T03:31:30.219039Z",
     "start_time": "2020-02-08T03:31:30.214543Z"
    }
   },
   "outputs": [],
   "source": [
    "train_folder = 'data/train/'\n",
    "test_folder = 'data/test/'\n",
    "train_label_path = 'data/train_label.csv'\n",
    "\n",
    "train_list = os.listdir(train_folder)\n",
    "test_list = os.listdir(test_folder)\n",
    "train_label = pd.read_csv(train_label_path, index_col=0)"
   ]
  },
  {
   "cell_type": "code",
   "execution_count": null,
   "metadata": {
    "ExecuteTime": {
     "end_time": "2020-02-08T03:31:30.222443Z",
     "start_time": "2020-02-08T03:31:30.220063Z"
    }
   },
   "outputs": [],
   "source": [
    "num_class = len(train_label['label'].unique())"
   ]
  },
  {
   "cell_type": "code",
   "execution_count": null,
   "metadata": {
    "ExecuteTime": {
     "end_time": "2020-02-08T03:31:30.234226Z",
     "start_time": "2020-02-08T03:31:30.223333Z"
    }
   },
   "outputs": [],
   "source": [
    "# 모든 csv 파일의 상태_B로 변화는 시점이 같다라고 가정\n",
    "# 하지만, 개별 csv파일의 상태_B로 변화는 시점은 상이할 수 있음\n",
    "def data_loader_all_v2(func, files, folder='', train_label=None, event_time=10, nrows=60):   \n",
    "    func_fixed = partial(func, folder=folder, train_label=train_label, event_time=event_time, nrows=nrows)     \n",
    "    if __name__ == '__main__':\n",
    "        pool = Pool(processes=multiprocessing.cpu_count()-2) \n",
    "        df_list = list(pool.imap(func_fixed, files)) \n",
    "        pool.close()\n",
    "        pool.join()        \n",
    "    combined_df = pd.concat(df_list)    \n",
    "    return combined_df"
   ]
  },
  {
   "cell_type": "code",
   "execution_count": null,
   "metadata": {
    "ExecuteTime": {
     "end_time": "2020-02-08T03:31:30.245624Z",
     "start_time": "2020-02-08T03:31:30.235342Z"
    }
   },
   "outputs": [],
   "source": [
    "# event_time = 10\n",
    "# nrows = 30\n",
    "# train = data_loader_all_v2(data_loader_v2, train_list, folder=train_folder, train_label=train_label, \n",
    "#                            event_time=event_time, nrows=nrows)\n",
    "# print(train.shape)\n",
    "# joblib.dump(train, 'data/df_train_{}_{}.pkl'.format(event_time, nrows))"
   ]
  },
  {
   "cell_type": "code",
   "execution_count": null,
   "metadata": {
    "ExecuteTime": {
     "end_time": "2020-02-08T03:31:33.776123Z",
     "start_time": "2020-02-08T03:31:30.246802Z"
    }
   },
   "outputs": [],
   "source": [
    "train = joblib.load('data/df_train_10_120.pkl').reset_index()"
   ]
  },
  {
   "cell_type": "code",
   "execution_count": null,
   "metadata": {
    "ExecuteTime": {
     "end_time": "2020-02-08T03:31:33.778786Z",
     "start_time": "2020-02-08T03:31:33.777176Z"
    }
   },
   "outputs": [],
   "source": [
    "# event_time = 10\n",
    "# nrows = 200\n",
    "# test = data_loader_all_v2(data_loader_v2, test_list, folder=test_folder, train_label=None, event_time=event_time, nrows=nrows)\n",
    "# print(test.shape)\n",
    "# joblib.dump(train, 'data/df_test_{}_{}.pkl'.format(event_time, nrows))"
   ]
  },
  {
   "cell_type": "code",
   "execution_count": null,
   "metadata": {
    "ExecuteTime": {
     "end_time": "2020-02-08T03:31:34.515260Z",
     "start_time": "2020-02-08T03:31:33.780203Z"
    }
   },
   "outputs": [],
   "source": [
    "test = joblib.load('data/df_test_10.pkl')\n"
   ]
  },
  {
   "cell_type": "code",
   "execution_count": null,
   "metadata": {
    "ExecuteTime": {
     "end_time": "2020-02-08T03:31:34.517860Z",
     "start_time": "2020-02-08T03:31:34.516352Z"
    }
   },
   "outputs": [],
   "source": [
    "# train = train.reset_index()"
   ]
  },
  {
   "cell_type": "code",
   "execution_count": null,
   "metadata": {
    "ExecuteTime": {
     "end_time": "2020-02-08T03:31:34.537847Z",
     "start_time": "2020-02-08T03:31:34.518605Z"
    }
   },
   "outputs": [],
   "source": [
    "fea_cols = [c for c in train.columns if c[0] == 'V']\n",
    "len(fea_cols)"
   ]
  },
  {
   "cell_type": "code",
   "execution_count": null,
   "metadata": {
    "ExecuteTime": {
     "end_time": "2020-02-08T03:31:34.642579Z",
     "start_time": "2020-02-08T03:31:34.538938Z"
    }
   },
   "outputs": [],
   "source": [
    "zero_cols = joblib.load('zero_cols.bin')\n",
    "fea_cols = [c for c in fea_cols if c not in zero_cols]"
   ]
  },
  {
   "cell_type": "code",
   "execution_count": null,
   "metadata": {
    "ExecuteTime": {
     "end_time": "2020-02-08T03:31:34.644734Z",
     "start_time": "2020-02-08T03:31:34.643388Z"
    }
   },
   "outputs": [],
   "source": [
    "# use_cols = joblib.load('use_cols.bin')\n",
    "# fea_cols = use_cols[:10]"
   ]
  },
  {
   "cell_type": "code",
   "execution_count": null,
   "metadata": {
    "ExecuteTime": {
     "end_time": "2020-02-08T03:31:34.652923Z",
     "start_time": "2020-02-08T03:31:34.645427Z"
    }
   },
   "outputs": [],
   "source": [
    "# fea_cols = zero_cols"
   ]
  },
  {
   "cell_type": "code",
   "execution_count": null,
   "metadata": {
    "ExecuteTime": {
     "end_time": "2020-02-08T03:31:34.659420Z",
     "start_time": "2020-02-08T03:31:34.653713Z"
    }
   },
   "outputs": [],
   "source": [
    "len(fea_cols)"
   ]
  },
  {
   "cell_type": "code",
   "execution_count": null,
   "metadata": {
    "ExecuteTime": {
     "end_time": "2020-02-08T03:31:34.668938Z",
     "start_time": "2020-02-08T03:31:34.660422Z"
    }
   },
   "outputs": [],
   "source": [
    "train['label'].value_counts(dropna=False)"
   ]
  },
  {
   "cell_type": "code",
   "execution_count": null,
   "metadata": {
    "ExecuteTime": {
     "end_time": "2020-02-08T03:31:34.671926Z",
     "start_time": "2020-02-08T03:31:34.670193Z"
    }
   },
   "outputs": [],
   "source": [
    "# X_train, X_test, y_train, y_test = train_test_split(X, y, test_size=0.2, random_state=81511991154 % 2**32-1)\n",
    "\n",
    "# X_train.shape, X_test.shape"
   ]
  },
  {
   "cell_type": "code",
   "execution_count": null,
   "metadata": {
    "ExecuteTime": {
     "end_time": "2020-02-08T03:31:34.679483Z",
     "start_time": "2020-02-08T03:31:34.673158Z"
    }
   },
   "outputs": [],
   "source": [
    "model_ts = datetime.now().strftime('%Y%m%dT%H%M%S')\n",
    "print('model_ts', model_ts)\n",
    "\n",
    "initscore_filename = ''\n",
    "params = {\n",
    "#     'boosting':'gbdt',\n",
    "    'boosting':'dart',\n",
    "#     'boosting':'goss',\n",
    "#     'boosting':'rf',\n",
    "    'num_leaves': 7,\n",
    "#     'max_depth': 3,\n",
    "    'num_class':num_class,\n",
    "    'objective': 'multiclass',\n",
    "#     'metric':['multi_logloss','auc_mu', 'multi_error'],\n",
    "    'metric':'multi_logloss',\n",
    "    'num_threads': multiprocessing.cpu_count(),\n",
    "    'learning_rate': 0.01,\n",
    "#     'is_unbalance': True,\n",
    "#     'scale_pos_weight':200,\n",
    "    'bagging_fraction':0.1,\n",
    "    'bagging_freq':1,\n",
    "    'feature_fraction':0.1,\n",
    "    'initscore_filename':initscore_filename,\n",
    "#     'lambda_l1':200,\n",
    "#     'lambda_l2':20,\n",
    "#     'device_type':'gpu',\n",
    "#     'tree_learner':'data',\n",
    "\n",
    "}\n",
    "print(params)\n",
    "\n",
    "data_params = {\n",
    "#     'max_bin':64,\n",
    "#     'enable_bundle': False,\n",
    "}\n",
    "print(data_params)\n",
    "\n",
    "num_round = 10000\n",
    "print('num_round:', num_round)"
   ]
  },
  {
   "cell_type": "code",
   "execution_count": null,
   "metadata": {
    "ExecuteTime": {
     "end_time": "2020-02-08T03:31:34.686266Z",
     "start_time": "2020-02-08T03:31:34.680255Z"
    }
   },
   "outputs": [],
   "source": [
    "# init_model = joblib.load('model/20200129T111708_0.27524341757899773.model')\n",
    "\n",
    "# 0.02x overfit 0.805803\n",
    "\n",
    "# 0.08323 0.635796\n",
    "# 0.174632 0.727734\n",
    "\n",
    "# init_model = joblib.load('model/20200204T125152_0_0.6866545643806307_0.3517946021430273.model')\n",
    "\n",
    "# model = init_model\n",
    "\n",
    "# model.best_iteration"
   ]
  },
  {
   "cell_type": "code",
   "execution_count": null,
   "metadata": {
    "ExecuteTime": {
     "end_time": "2020-02-08T12:47:34.635528Z",
     "start_time": "2020-02-08T03:31:34.687039Z"
    },
    "scrolled": true
   },
   "outputs": [],
   "source": [
    "submit_csv = []\n",
    "n_splits = 10\n",
    "skf = StratifiedKFold(n_splits=n_splits, random_state=81511991154 % 2**32-1, shuffle=True)\n",
    "\n",
    "cv = 0\n",
    "for train_index, valid_index in tqdm_notebook(skf.split(train.index, train['label'].values), total=n_splits, desc = 'CV'):\n",
    "#     cnt += 1\n",
    "#     print(cnt)\n",
    "#     if cnt < 3:\n",
    "#         continue\n",
    "\n",
    "    \n",
    "    X_train, X_test = train.loc[train_index, fea_cols], train.loc[valid_index, fea_cols] \n",
    "    y_train, y_test = train.loc[train_index,'label'], train.loc[valid_index, 'label']    \n",
    "    \n",
    "    print(X_train.shape, X_test.shape)\n",
    "#     print(y_train.value_counts(dropna=False))\n",
    "#     print(y_test.value_counts(dropna=False))\n",
    "    \n",
    "    \n",
    "    train_set = lgb.Dataset(X_train, label=y_train, params=data_params)\n",
    "    val_set = lgb.Dataset(X_test, label=y_test, params=data_params)\n",
    "\n",
    "    evals_result = {}\n",
    "    model = lgb.train(params, train_set, num_round, early_stopping_rounds=200, \n",
    "                            valid_sets=[train_set, val_set],\n",
    "                            verbose_eval=50,\n",
    "                            evals_result=evals_result,\n",
    "#                             init_model=model,\n",
    "                           )\n",
    "\n",
    "    model_tag ='{}lgb_{}_{}_{}'.format(model_ts, cv,\n",
    "                                 evals_result['valid_1']['multi_logloss'][model.best_iteration-1],\n",
    "                                 evals_result['training']['multi_logloss'][model.best_iteration-1]\n",
    "                                )\n",
    "    print(model_tag)\n",
    "\n",
    "    joblib.dump(model, 'model/{}.model'.format(model_tag))\n",
    "    \n",
    "    \n",
    "    pred = model.predict(test[fea_cols])\n",
    "\n",
    "    submission = pd.DataFrame(data=pred)\n",
    "    submission.index = test.index\n",
    "    submission.index.name = 'id'\n",
    "    submission = submission.sort_index()\n",
    "    submission = submission.groupby('id').mean()\n",
    "\n",
    "    csv_path = 'submit/{}.csv'.format(model_tag)\n",
    "    submit_csv.append(csv_path)\n",
    "    submission.to_csv(csv_path, index=True) \n",
    "    \n",
    "    print(submission.sum(axis=1))\n",
    "    print(submission)\n",
    "    cv += 1\n",
    "#     break\n"
   ]
  },
  {
   "cell_type": "code",
   "execution_count": null,
   "metadata": {
    "ExecuteTime": {
     "end_time": "2020-02-07T12:55:45.240676Z",
     "start_time": "2020-02-07T12:46:53.533Z"
    }
   },
   "outputs": [],
   "source": [
    "# submissions = [\n",
    "# 'submit/20200201T193822_0.42165222105307115_0.03657010393259738.csv',\n",
    "# 'submit/20200201T183544_0.4354487978488266_0.04354968619883053.csv',\n",
    "# 'submit/20200201T173725_0.423066834354457_0.03614391993976106.csv',\n",
    "# 'submit/20200201T163343_0.4287587567261741_0.042392138498467166.csv',\n",
    "# 'submit/20200201T153529_0.42326652930531944_0.04098269988118284.csv',\n",
    "# 'submit/20200201T143616_0.4258237823312355_0.04651153387555587.csv',\n",
    "# 'submit/20200201T134047_0.43147156765580946_0.043682031170534714.csv',\n",
    "# 'submit/20200201T125939_0.42958065644660504_0.040012625819045466.csv',\n",
    "# 'submit/20200201T120739_0.42070899280425217_0.03477196302416032.csv',\n",
    "# 'submit/20200201T110556_0.4181683365658109_0.043843902710973416.csv',\n",
    "# ]\n",
    "\n",
    "\n",
    "dfs = [pd.read_csv(s) for s in submit_csv]\n",
    "\n",
    "df_submit = pd.concat(dfs)\n",
    "\n",
    "df_submit = df_submit.groupby('id').mean()\n",
    "\n",
    "df_submit.to_csv('submit/{}_e{}.csv'.format(model_ts, n_splits), index=True) "
   ]
  },
  {
   "cell_type": "code",
   "execution_count": null,
   "metadata": {
    "ExecuteTime": {
     "end_time": "2020-02-07T12:55:45.241249Z",
     "start_time": "2020-02-07T12:46:54.419Z"
    }
   },
   "outputs": [],
   "source": [
    "df_submit.sum(1)"
   ]
  },
  {
   "cell_type": "code",
   "execution_count": null,
   "metadata": {
    "ExecuteTime": {
     "end_time": "2020-02-06T01:41:26.497335Z",
     "start_time": "2020-02-06T01:01:04.458Z"
    }
   },
   "outputs": [],
   "source": [
    "importance_type = 'split'\n",
    "impt_dict = {k:v for k, v in zip(fea_cols, model.feature_importance(importance_type=importance_type))}\n",
    "# sorted(impt_dict.items(), key=(lambda x:x[1]), reverse=True)\n",
    "# zero_cols = []\n",
    "for k, s in sorted(impt_dict.items(), key=(lambda x:x[1]), reverse=False):\n",
    "    if s == 0:\n",
    "        zero_cols.append(k)\n",
    "# joblib.dump(impt_dict, f'model/{file_name}_{importance_type}.pkl')\n",
    "\n",
    "len(zero_cols)"
   ]
  },
  {
   "cell_type": "code",
   "execution_count": null,
   "metadata": {
    "ExecuteTime": {
     "end_time": "2020-02-06T01:41:26.498127Z",
     "start_time": "2020-02-06T01:01:04.460Z"
    },
    "scrolled": true
   },
   "outputs": [],
   "source": [
    "joblib.dump(zero_cols, 'zero_cols.bin')"
   ]
  },
  {
   "cell_type": "code",
   "execution_count": null,
   "metadata": {
    "ExecuteTime": {
     "end_time": "2020-02-06T01:41:26.498908Z",
     "start_time": "2020-02-06T01:01:04.462Z"
    }
   },
   "outputs": [],
   "source": [
    "# model = joblib.load('model/20200130T221520_2.4393985000913667_0.07225009557115544.model')"
   ]
  },
  {
   "cell_type": "code",
   "execution_count": null,
   "metadata": {
    "ExecuteTime": {
     "end_time": "2020-02-06T01:41:26.499677Z",
     "start_time": "2020-02-06T01:01:04.464Z"
    },
    "scrolled": true
   },
   "outputs": [],
   "source": [
    "# pred = model.predict(test)\n",
    "\n",
    "# submission = pd.DataFrame(data=pred)\n",
    "# submission.index = test.index\n",
    "# submission.index.name = 'id'\n",
    "# submission = submission.sort_index()\n",
    "# submission = submission.groupby('id').mean()\n",
    "\n",
    "# submission.to_csv('submit/{}.csv'.format(model_tag), index=True) \n",
    "# model_tag\n",
    "\n",
    "# submission.sum(axis=1)\n",
    "\n",
    "# submission"
   ]
  },
  {
   "cell_type": "code",
   "execution_count": null,
   "metadata": {},
   "outputs": [],
   "source": []
  }
 ],
 "metadata": {
  "kernelspec": {
   "display_name": "Python 3",
   "language": "python",
   "name": "python3"
  },
  "language_info": {
   "codemirror_mode": {
    "name": "ipython",
    "version": 3
   },
   "file_extension": ".py",
   "mimetype": "text/x-python",
   "name": "python",
   "nbconvert_exporter": "python",
   "pygments_lexer": "ipython3",
   "version": "3.7.4"
  },
  "toc": {
   "base_numbering": 1,
   "nav_menu": {},
   "number_sections": true,
   "sideBar": true,
   "skip_h1_title": false,
   "title_cell": "Table of Contents",
   "title_sidebar": "Contents",
   "toc_cell": false,
   "toc_position": {},
   "toc_section_display": true,
   "toc_window_display": false
  }
 },
 "nbformat": 4,
 "nbformat_minor": 2
}
