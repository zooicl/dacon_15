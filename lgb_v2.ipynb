{
 "cells": [
  {
   "cell_type": "code",
   "execution_count": 1,
   "metadata": {
    "ExecuteTime": {
     "end_time": "2020-02-03T06:06:51.033035Z",
     "start_time": "2020-02-03T06:06:49.911665Z"
    }
   },
   "outputs": [
    {
     "name": "stderr",
     "output_type": "stream",
     "text": [
      "/home/aiden/anaconda3/lib/python3.7/site-packages/sklearn/externals/joblib/__init__.py:15: DeprecationWarning: sklearn.externals.joblib is deprecated in 0.21 and will be removed in 0.23. Please import this functionality directly from joblib, which can be installed with: pip install joblib. If this warning is raised when loading pickled models, you may need to re-serialize those models with scikit-learn 0.21+.\n",
      "  warnings.warn(msg, category=DeprecationWarning)\n"
     ]
    }
   ],
   "source": [
    "import os\n",
    "import pandas as pd \n",
    "import numpy as np\n",
    "import multiprocessing # 여러 개의 일꾼 (cpu)들에게 작업을 분산시키는 역할\n",
    "from multiprocessing import Pool \n",
    "from functools import partial # 함수가 받는 인자들 중 몇개를 고정 시켜서 새롭게 파생된 함수를 형성하는 역할\n",
    "from data_loader import data_loader_v2 # 자체적으로 만든 data loader version 2.0 ([데이콘 15회 대회] 데이터 설명 및 데이터 불러오기 영상 참조)\n",
    "\n",
    "from sklearn.ensemble import RandomForestClassifier\n",
    "import joblib # 모델을 저장하고 불러오는 역\n",
    "from datetime import datetime\n",
    "\n",
    "import lightgbm as lgb\n",
    "\n",
    "from sklearn.model_selection import train_test_split\n",
    "from sklearn.model_selection import StratifiedKFold\n",
    "from tqdm import tqdm_notebook\n",
    "\n",
    "from sklearn.metrics import log_loss\n",
    "\n",
    "from tools import eval_summary, save_feature_importance, merge_preds, report\n",
    "\n"
   ]
  },
  {
   "cell_type": "code",
   "execution_count": 2,
   "metadata": {
    "ExecuteTime": {
     "end_time": "2020-02-03T06:06:51.036556Z",
     "start_time": "2020-02-03T06:06:51.034421Z"
    }
   },
   "outputs": [],
   "source": [
    "train_folder = 'data/train/'\n",
    "test_folder = 'data/test/'\n",
    "train_label_path = 'data/train_label.csv'"
   ]
  },
  {
   "cell_type": "code",
   "execution_count": 3,
   "metadata": {
    "ExecuteTime": {
     "end_time": "2020-02-03T06:06:51.051034Z",
     "start_time": "2020-02-03T06:06:51.037869Z"
    }
   },
   "outputs": [],
   "source": [
    "train_list = os.listdir(train_folder)\n",
    "test_list = os.listdir(test_folder)\n",
    "train_label = pd.read_csv(train_label_path, index_col=0)"
   ]
  },
  {
   "cell_type": "code",
   "execution_count": 4,
   "metadata": {
    "ExecuteTime": {
     "end_time": "2020-02-03T06:06:51.054949Z",
     "start_time": "2020-02-03T06:06:51.052208Z"
    }
   },
   "outputs": [],
   "source": [
    "num_class = len(train_label['label'].unique())"
   ]
  },
  {
   "cell_type": "code",
   "execution_count": 5,
   "metadata": {
    "ExecuteTime": {
     "end_time": "2020-02-03T06:06:51.139469Z",
     "start_time": "2020-02-03T06:06:51.135437Z"
    }
   },
   "outputs": [],
   "source": [
    "def data_loader_all(func, files, folder='', train_label=None, event_time=10, nrows=60):   \n",
    "    func_fixed = partial(func, folder=folder, train_label=train_label, event_time=event_time, nrows=nrows)     \n",
    "    if __name__ == '__main__':\n",
    "        pool = Pool(processes=multiprocessing.cpu_count()-2) \n",
    "        df_list = list(pool.imap(func_fixed, files)) \n",
    "        pool.close()\n",
    "        pool.join()        \n",
    "    combined_df = pd.concat(df_list)    \n",
    "    return combined_df"
   ]
  },
  {
   "cell_type": "code",
   "execution_count": 13,
   "metadata": {
    "ExecuteTime": {
     "end_time": "2020-02-03T07:50:35.115780Z",
     "start_time": "2020-02-03T07:50:34.478603Z"
    },
    "scrolled": true
   },
   "outputs": [],
   "source": [
    "df = pd.read_csv('data/train/30.csv')\n",
    "df.index = np.repeat(30, len(df)) # row 인덱스를 file id로 덮어 씌우기 "
   ]
  },
  {
   "cell_type": "code",
   "execution_count": 30,
   "metadata": {
    "ExecuteTime": {
     "end_time": "2020-02-03T07:58:55.110548Z",
     "start_time": "2020-02-03T07:58:55.107906Z"
    }
   },
   "outputs": [],
   "source": [
    "def percentile(n):\n",
    "    def percentile_(x):\n",
    "        return np.percentile(x, n)\n",
    "    percentile_.__name__ = 'percentile_%s' % n\n",
    "    return percentile_"
   ]
  },
  {
   "cell_type": "code",
   "execution_count": 46,
   "metadata": {
    "ExecuteTime": {
     "end_time": "2020-02-03T08:04:41.979913Z",
     "start_time": "2020-02-03T08:04:41.975794Z"
    }
   },
   "outputs": [],
   "source": [
    "agg_list = ['mean', 'std', 'min', 'max', 'median', 'sum',\n",
    "            pd.DataFrame.kurt,\n",
    "            pd.DataFrame.skew,\n",
    "            percentile(10), percentile(20), percentile(30), percentile(40), percentile(50),\n",
    "            percentile(60), percentile(70), percentile(80), percentile(90),\n",
    "           ]"
   ]
  },
  {
   "cell_type": "code",
   "execution_count": 47,
   "metadata": {
    "ExecuteTime": {
     "end_time": "2020-02-03T08:04:42.723028Z",
     "start_time": "2020-02-03T08:04:42.692439Z"
    },
    "scrolled": true
   },
   "outputs": [
    {
     "data": {
      "text/html": [
       "<div>\n",
       "<style scoped>\n",
       "    .dataframe tbody tr th:only-of-type {\n",
       "        vertical-align: middle;\n",
       "    }\n",
       "\n",
       "    .dataframe tbody tr th {\n",
       "        vertical-align: top;\n",
       "    }\n",
       "\n",
       "    .dataframe thead tr th {\n",
       "        text-align: left;\n",
       "    }\n",
       "</style>\n",
       "<table border=\"1\" class=\"dataframe\">\n",
       "  <thead>\n",
       "    <tr>\n",
       "      <th></th>\n",
       "      <th colspan=\"17\" halign=\"left\">V0000</th>\n",
       "    </tr>\n",
       "    <tr>\n",
       "      <th></th>\n",
       "      <th>mean</th>\n",
       "      <th>std</th>\n",
       "      <th>min</th>\n",
       "      <th>max</th>\n",
       "      <th>median</th>\n",
       "      <th>sum</th>\n",
       "      <th>kurt</th>\n",
       "      <th>skew</th>\n",
       "      <th>percentile_10</th>\n",
       "      <th>percentile_20</th>\n",
       "      <th>percentile_30</th>\n",
       "      <th>percentile_40</th>\n",
       "      <th>percentile_50</th>\n",
       "      <th>percentile_60</th>\n",
       "      <th>percentile_70</th>\n",
       "      <th>percentile_80</th>\n",
       "      <th>percentile_90</th>\n",
       "    </tr>\n",
       "  </thead>\n",
       "  <tbody>\n",
       "    <tr>\n",
       "      <td>30</td>\n",
       "      <td>3.236973</td>\n",
       "      <td>9.813574</td>\n",
       "      <td>0.0</td>\n",
       "      <td>32.94162</td>\n",
       "      <td>0.0</td>\n",
       "      <td>1877.444136</td>\n",
       "      <td>5.340688</td>\n",
       "      <td>2.705972</td>\n",
       "      <td>0.0</td>\n",
       "      <td>0.0</td>\n",
       "      <td>0.0</td>\n",
       "      <td>0.0</td>\n",
       "      <td>0.0</td>\n",
       "      <td>0.0</td>\n",
       "      <td>0.0</td>\n",
       "      <td>0.0</td>\n",
       "      <td>0.0</td>\n",
       "    </tr>\n",
       "  </tbody>\n",
       "</table>\n",
       "</div>"
      ],
      "text/plain": [
       "       V0000                                                                   \\\n",
       "        mean       std  min       max median          sum      kurt      skew   \n",
       "30  3.236973  9.813574  0.0  32.94162    0.0  1877.444136  5.340688  2.705972   \n",
       "\n",
       "                                                                          \\\n",
       "   percentile_10 percentile_20 percentile_30 percentile_40 percentile_50   \n",
       "30           0.0           0.0           0.0           0.0           0.0   \n",
       "\n",
       "                                                            \n",
       "   percentile_60 percentile_70 percentile_80 percentile_90  \n",
       "30           0.0           0.0           0.0           0.0  "
      ]
     },
     "execution_count": 47,
     "metadata": {},
     "output_type": "execute_result"
    }
   ],
   "source": [
    "df.groupby(df.index).agg({'V0000':agg_list})"
   ]
  },
  {
   "cell_type": "code",
   "execution_count": 37,
   "metadata": {
    "ExecuteTime": {
     "end_time": "2020-02-03T08:02:18.404656Z",
     "start_time": "2020-02-03T08:02:18.380761Z"
    }
   },
   "outputs": [
    {
     "ename": "TypeError",
     "evalue": "'quantile' cannot be performed against 'object' dtypes!",
     "output_type": "error",
     "traceback": [
      "\u001b[0;31m---------------------------------------------------------------------------\u001b[0m",
      "\u001b[0;31mTypeError\u001b[0m                                 Traceback (most recent call last)",
      "\u001b[0;32m<ipython-input-37-655132f6ddc3>\u001b[0m in \u001b[0;36m<module>\u001b[0;34m\u001b[0m\n\u001b[0;32m----> 1\u001b[0;31m \u001b[0mdf\u001b[0m\u001b[0;34m.\u001b[0m\u001b[0mgroupby\u001b[0m\u001b[0;34m(\u001b[0m\u001b[0mdf\u001b[0m\u001b[0;34m.\u001b[0m\u001b[0mindex\u001b[0m\u001b[0;34m)\u001b[0m\u001b[0;34m.\u001b[0m\u001b[0mquantile\u001b[0m\u001b[0;34m(\u001b[0m\u001b[0;34m[\u001b[0m\u001b[0;36m0\u001b[0m\u001b[0;34m,\u001b[0m \u001b[0;36m0.25\u001b[0m\u001b[0;34m,\u001b[0m \u001b[0;36m0.5\u001b[0m\u001b[0;34m,\u001b[0m \u001b[0;36m0.75\u001b[0m\u001b[0;34m,\u001b[0m \u001b[0;36m0.95\u001b[0m\u001b[0;34m,\u001b[0m \u001b[0;36m1\u001b[0m\u001b[0;34m]\u001b[0m\u001b[0;34m)\u001b[0m\u001b[0;34m\u001b[0m\u001b[0;34m\u001b[0m\u001b[0m\n\u001b[0m",
      "\u001b[0;32m~/anaconda3/lib/python3.7/site-packages/pandas/core/groupby/groupby.py\u001b[0m in \u001b[0;36mquantile\u001b[0;34m(self, q, interpolation)\u001b[0m\n\u001b[1;32m   1928\u001b[0m                     \u001b[0minterpolation\u001b[0m\u001b[0;34m=\u001b[0m\u001b[0minterpolation\u001b[0m\u001b[0;34m,\u001b[0m\u001b[0;34m\u001b[0m\u001b[0;34m\u001b[0m\u001b[0m\n\u001b[1;32m   1929\u001b[0m                 )\n\u001b[0;32m-> 1930\u001b[0;31m                 \u001b[0;32mfor\u001b[0m \u001b[0mqi\u001b[0m \u001b[0;32min\u001b[0m \u001b[0mq\u001b[0m\u001b[0;34m\u001b[0m\u001b[0;34m\u001b[0m\u001b[0m\n\u001b[0m\u001b[1;32m   1931\u001b[0m             ]\n\u001b[1;32m   1932\u001b[0m             \u001b[0mresult\u001b[0m \u001b[0;34m=\u001b[0m \u001b[0mconcat\u001b[0m\u001b[0;34m(\u001b[0m\u001b[0mresults\u001b[0m\u001b[0;34m,\u001b[0m \u001b[0maxis\u001b[0m\u001b[0;34m=\u001b[0m\u001b[0;36m0\u001b[0m\u001b[0;34m,\u001b[0m \u001b[0mkeys\u001b[0m\u001b[0;34m=\u001b[0m\u001b[0mq\u001b[0m\u001b[0;34m)\u001b[0m\u001b[0;34m\u001b[0m\u001b[0;34m\u001b[0m\u001b[0m\n",
      "\u001b[0;32m~/anaconda3/lib/python3.7/site-packages/pandas/core/groupby/groupby.py\u001b[0m in \u001b[0;36m<listcomp>\u001b[0;34m(.0)\u001b[0m\n\u001b[1;32m   1928\u001b[0m                     \u001b[0minterpolation\u001b[0m\u001b[0;34m=\u001b[0m\u001b[0minterpolation\u001b[0m\u001b[0;34m,\u001b[0m\u001b[0;34m\u001b[0m\u001b[0;34m\u001b[0m\u001b[0m\n\u001b[1;32m   1929\u001b[0m                 )\n\u001b[0;32m-> 1930\u001b[0;31m                 \u001b[0;32mfor\u001b[0m \u001b[0mqi\u001b[0m \u001b[0;32min\u001b[0m \u001b[0mq\u001b[0m\u001b[0;34m\u001b[0m\u001b[0;34m\u001b[0m\u001b[0m\n\u001b[0m\u001b[1;32m   1931\u001b[0m             ]\n\u001b[1;32m   1932\u001b[0m             \u001b[0mresult\u001b[0m \u001b[0;34m=\u001b[0m \u001b[0mconcat\u001b[0m\u001b[0;34m(\u001b[0m\u001b[0mresults\u001b[0m\u001b[0;34m,\u001b[0m \u001b[0maxis\u001b[0m\u001b[0;34m=\u001b[0m\u001b[0;36m0\u001b[0m\u001b[0;34m,\u001b[0m \u001b[0mkeys\u001b[0m\u001b[0;34m=\u001b[0m\u001b[0mq\u001b[0m\u001b[0;34m)\u001b[0m\u001b[0;34m\u001b[0m\u001b[0;34m\u001b[0m\u001b[0m\n",
      "\u001b[0;32m~/anaconda3/lib/python3.7/site-packages/pandas/core/groupby/groupby.py\u001b[0m in \u001b[0;36m_get_cythonized_result\u001b[0;34m(self, how, grouper, aggregate, cython_dtype, needs_values, needs_mask, needs_ngroups, result_is_index, pre_processing, post_processing, **kwargs)\u001b[0m\n\u001b[1;32m   2280\u001b[0m                 \u001b[0mvals\u001b[0m \u001b[0;34m=\u001b[0m \u001b[0mobj\u001b[0m\u001b[0;34m.\u001b[0m\u001b[0mvalues\u001b[0m\u001b[0;34m\u001b[0m\u001b[0;34m\u001b[0m\u001b[0m\n\u001b[1;32m   2281\u001b[0m                 \u001b[0;32mif\u001b[0m \u001b[0mpre_processing\u001b[0m\u001b[0;34m:\u001b[0m\u001b[0;34m\u001b[0m\u001b[0;34m\u001b[0m\u001b[0m\n\u001b[0;32m-> 2282\u001b[0;31m                     \u001b[0mvals\u001b[0m\u001b[0;34m,\u001b[0m \u001b[0minferences\u001b[0m \u001b[0;34m=\u001b[0m \u001b[0mpre_processing\u001b[0m\u001b[0;34m(\u001b[0m\u001b[0mvals\u001b[0m\u001b[0;34m)\u001b[0m\u001b[0;34m\u001b[0m\u001b[0;34m\u001b[0m\u001b[0m\n\u001b[0m\u001b[1;32m   2283\u001b[0m                 \u001b[0mfunc\u001b[0m \u001b[0;34m=\u001b[0m \u001b[0mpartial\u001b[0m\u001b[0;34m(\u001b[0m\u001b[0mfunc\u001b[0m\u001b[0;34m,\u001b[0m \u001b[0mvals\u001b[0m\u001b[0;34m)\u001b[0m\u001b[0;34m\u001b[0m\u001b[0;34m\u001b[0m\u001b[0m\n\u001b[1;32m   2284\u001b[0m \u001b[0;34m\u001b[0m\u001b[0m\n",
      "\u001b[0;32m~/anaconda3/lib/python3.7/site-packages/pandas/core/groupby/groupby.py\u001b[0m in \u001b[0;36mpre_processor\u001b[0;34m(vals)\u001b[0m\n\u001b[1;32m   1878\u001b[0m             \u001b[0;32mif\u001b[0m \u001b[0mis_object_dtype\u001b[0m\u001b[0;34m(\u001b[0m\u001b[0mvals\u001b[0m\u001b[0;34m)\u001b[0m\u001b[0;34m:\u001b[0m\u001b[0;34m\u001b[0m\u001b[0;34m\u001b[0m\u001b[0m\n\u001b[1;32m   1879\u001b[0m                 raise TypeError(\n\u001b[0;32m-> 1880\u001b[0;31m                     \u001b[0;34m\"'quantile' cannot be performed against \"\u001b[0m \u001b[0;34m\"'object' dtypes!\"\u001b[0m\u001b[0;34m\u001b[0m\u001b[0;34m\u001b[0m\u001b[0m\n\u001b[0m\u001b[1;32m   1881\u001b[0m                 )\n\u001b[1;32m   1882\u001b[0m \u001b[0;34m\u001b[0m\u001b[0m\n",
      "\u001b[0;31mTypeError\u001b[0m: 'quantile' cannot be performed against 'object' dtypes!"
     ]
    }
   ],
   "source": [
    "df.groupby(df.index).quantile([0, 0.25, 0.5, 0.75, 0.95, 1])\n"
   ]
  },
  {
   "cell_type": "code",
   "execution_count": 6,
   "metadata": {
    "ExecuteTime": {
     "end_time": "2020-02-03T06:06:53.014415Z",
     "start_time": "2020-02-03T06:06:53.008129Z"
    }
   },
   "outputs": [],
   "source": [
    "def data_loader_v3(file_name, folder='', train_label=None, event_time=10, nrows=60, use_cols=None):\n",
    "    file_id = int(file_name.split('.')[0]) # file id만 불러오기\n",
    "    df = pd.read_csv(folder+file_name, index_col=0, nrows=nrows) # 파일 읽어오기\n",
    "    \n",
    "    df = df.replace('.*', 0, regex=True).fillna(0) # 모든 문자열과 NA값을 0으로 대체\n",
    "    \n",
    "    df = df.loc[event_time:] # event_time 이후의 row들만 가지고 오기\n",
    "    \n",
    "    df.index = np.repeat(file_id, len(df)) # row 인덱스를 file id로 덮어 씌우기 \n",
    "    if type(train_label) != type(None):\n",
    "        label = train_label.loc[file_id]['label'] \n",
    "        df['label'] = np.repeat(label, len(df)) #train set일 경우 라벨 추가하기 \n",
    "    \n",
    "    return df"
   ]
  },
  {
   "cell_type": "code",
   "execution_count": 89,
   "metadata": {
    "ExecuteTime": {
     "end_time": "2020-02-01T21:07:19.527630Z",
     "start_time": "2020-02-01T21:05:17.618099Z"
    }
   },
   "outputs": [
    {
     "name": "stdout",
     "output_type": "stream",
     "text": [
      "(41400, 5122)\n"
     ]
    }
   ],
   "source": [
    "train = data_loader_all(data_loader_v3, train_list, folder=train_folder, train_label=train_label, \n",
    "                           event_time=10, nrows=60)\n",
    "print(train.shape)\n",
    "joblib.dump(train, 'data/df_train_10_60.pkl')\n",
    "\n",
    "# test = data_loader_all_v2(data_loader_v2, test_list, folder=test_folder, train_label=None, event_time=10, nrows=None)\n",
    "# print(test.shape)\n"
   ]
  },
  {
   "cell_type": "code",
   "execution_count": 90,
   "metadata": {
    "ExecuteTime": {
     "end_time": "2020-02-01T21:07:21.224162Z",
     "start_time": "2020-02-01T21:07:19.528686Z"
    }
   },
   "outputs": [
    {
     "data": {
      "text/plain": [
       "['data/df_train_10_60.pkl']"
      ]
     },
     "execution_count": 90,
     "metadata": {},
     "output_type": "execute_result"
    }
   ],
   "source": [
    "joblib.dump(train, 'data/df_train_10_60.pkl')"
   ]
  },
  {
   "cell_type": "code",
   "execution_count": 88,
   "metadata": {
    "ExecuteTime": {
     "end_time": "2020-02-01T21:04:46.378981Z",
     "start_time": "2020-02-01T21:04:46.360518Z"
    }
   },
   "outputs": [
    {
     "ename": "FileNotFoundError",
     "evalue": "[Errno 2] No such file or directory: 'data/df_train_10_60.pkl'",
     "output_type": "error",
     "traceback": [
      "\u001b[0;31m---------------------------------------------------------------------------\u001b[0m",
      "\u001b[0;31mFileNotFoundError\u001b[0m                         Traceback (most recent call last)",
      "\u001b[0;32m<ipython-input-88-2be6c05dca0a>\u001b[0m in \u001b[0;36m<module>\u001b[0;34m\u001b[0m\n\u001b[0;32m----> 1\u001b[0;31m \u001b[0mtrain\u001b[0m \u001b[0;34m=\u001b[0m \u001b[0mjoblib\u001b[0m\u001b[0;34m.\u001b[0m\u001b[0mload\u001b[0m\u001b[0;34m(\u001b[0m\u001b[0;34m'data/df_train_10_60.pkl'\u001b[0m\u001b[0;34m)\u001b[0m\u001b[0;34m.\u001b[0m\u001b[0mreset_index\u001b[0m\u001b[0;34m(\u001b[0m\u001b[0;34m)\u001b[0m\u001b[0;34m\u001b[0m\u001b[0;34m\u001b[0m\u001b[0m\n\u001b[0m\u001b[1;32m      2\u001b[0m \u001b[0mtest\u001b[0m \u001b[0;34m=\u001b[0m \u001b[0mjoblib\u001b[0m\u001b[0;34m.\u001b[0m\u001b[0mload\u001b[0m\u001b[0;34m(\u001b[0m\u001b[0;34m'data/df_test_10.pkl'\u001b[0m\u001b[0;34m)\u001b[0m\u001b[0;34m\u001b[0m\u001b[0;34m\u001b[0m\u001b[0m\n",
      "\u001b[0;32m~/anaconda3/lib/python3.7/site-packages/joblib/numpy_pickle.py\u001b[0m in \u001b[0;36mload\u001b[0;34m(filename, mmap_mode)\u001b[0m\n\u001b[1;32m    588\u001b[0m             \u001b[0mobj\u001b[0m \u001b[0;34m=\u001b[0m \u001b[0m_unpickle\u001b[0m\u001b[0;34m(\u001b[0m\u001b[0mfobj\u001b[0m\u001b[0;34m)\u001b[0m\u001b[0;34m\u001b[0m\u001b[0;34m\u001b[0m\u001b[0m\n\u001b[1;32m    589\u001b[0m     \u001b[0;32melse\u001b[0m\u001b[0;34m:\u001b[0m\u001b[0;34m\u001b[0m\u001b[0;34m\u001b[0m\u001b[0m\n\u001b[0;32m--> 590\u001b[0;31m         \u001b[0;32mwith\u001b[0m \u001b[0mopen\u001b[0m\u001b[0;34m(\u001b[0m\u001b[0mfilename\u001b[0m\u001b[0;34m,\u001b[0m \u001b[0;34m'rb'\u001b[0m\u001b[0;34m)\u001b[0m \u001b[0;32mas\u001b[0m \u001b[0mf\u001b[0m\u001b[0;34m:\u001b[0m\u001b[0;34m\u001b[0m\u001b[0;34m\u001b[0m\u001b[0m\n\u001b[0m\u001b[1;32m    591\u001b[0m             \u001b[0;32mwith\u001b[0m \u001b[0m_read_fileobject\u001b[0m\u001b[0;34m(\u001b[0m\u001b[0mf\u001b[0m\u001b[0;34m,\u001b[0m \u001b[0mfilename\u001b[0m\u001b[0;34m,\u001b[0m \u001b[0mmmap_mode\u001b[0m\u001b[0;34m)\u001b[0m \u001b[0;32mas\u001b[0m \u001b[0mfobj\u001b[0m\u001b[0;34m:\u001b[0m\u001b[0;34m\u001b[0m\u001b[0;34m\u001b[0m\u001b[0m\n\u001b[1;32m    592\u001b[0m                 \u001b[0;32mif\u001b[0m \u001b[0misinstance\u001b[0m\u001b[0;34m(\u001b[0m\u001b[0mfobj\u001b[0m\u001b[0;34m,\u001b[0m \u001b[0m_basestring\u001b[0m\u001b[0;34m)\u001b[0m\u001b[0;34m:\u001b[0m\u001b[0;34m\u001b[0m\u001b[0;34m\u001b[0m\u001b[0m\n",
      "\u001b[0;31mFileNotFoundError\u001b[0m: [Errno 2] No such file or directory: 'data/df_train_10_60.pkl'"
     ]
    }
   ],
   "source": [
    "train = joblib.load('data/df_train_10_60.pkl').reset_index()\n",
    "test = joblib.load('data/df_test_10.pkl')\n"
   ]
  },
  {
   "cell_type": "code",
   "execution_count": 8,
   "metadata": {
    "ExecuteTime": {
     "end_time": "2020-01-31T01:49:52.237753Z",
     "start_time": "2020-01-31T01:49:52.211783Z"
    }
   },
   "outputs": [
    {
     "data": {
      "text/html": [
       "<div>\n",
       "<style scoped>\n",
       "    .dataframe tbody tr th:only-of-type {\n",
       "        vertical-align: middle;\n",
       "    }\n",
       "\n",
       "    .dataframe tbody tr th {\n",
       "        vertical-align: top;\n",
       "    }\n",
       "\n",
       "    .dataframe thead th {\n",
       "        text-align: right;\n",
       "    }\n",
       "</style>\n",
       "<table border=\"1\" class=\"dataframe\">\n",
       "  <thead>\n",
       "    <tr style=\"text-align: right;\">\n",
       "      <th></th>\n",
       "      <th>index</th>\n",
       "      <th>V0000</th>\n",
       "      <th>V0001</th>\n",
       "      <th>V0002</th>\n",
       "      <th>V0003</th>\n",
       "      <th>V0004</th>\n",
       "      <th>V0005</th>\n",
       "      <th>V0006</th>\n",
       "      <th>V0007</th>\n",
       "      <th>V0008</th>\n",
       "      <th>...</th>\n",
       "      <th>V5112</th>\n",
       "      <th>V5113</th>\n",
       "      <th>V5114</th>\n",
       "      <th>V5115</th>\n",
       "      <th>V5116</th>\n",
       "      <th>V5117</th>\n",
       "      <th>V5118</th>\n",
       "      <th>V5119</th>\n",
       "      <th>V5120</th>\n",
       "      <th>label</th>\n",
       "    </tr>\n",
       "  </thead>\n",
       "  <tbody>\n",
       "    <tr>\n",
       "      <td>0</td>\n",
       "      <td>105</td>\n",
       "      <td>30.464769</td>\n",
       "      <td>8.677597</td>\n",
       "      <td>8.702804</td>\n",
       "      <td>8.730314</td>\n",
       "      <td>8.710375</td>\n",
       "      <td>188.466110</td>\n",
       "      <td>192.279094</td>\n",
       "      <td>3.577269e-19</td>\n",
       "      <td>0.0</td>\n",
       "      <td>...</td>\n",
       "      <td>1.0</td>\n",
       "      <td>1.0</td>\n",
       "      <td>1.0</td>\n",
       "      <td>60.0</td>\n",
       "      <td>0.0</td>\n",
       "      <td>0.0</td>\n",
       "      <td>5.235258e-08</td>\n",
       "      <td>85.4</td>\n",
       "      <td>0.0</td>\n",
       "      <td>77</td>\n",
       "    </tr>\n",
       "    <tr>\n",
       "      <td>1</td>\n",
       "      <td>105</td>\n",
       "      <td>30.464943</td>\n",
       "      <td>8.791777</td>\n",
       "      <td>8.741013</td>\n",
       "      <td>8.713725</td>\n",
       "      <td>8.719421</td>\n",
       "      <td>217.356293</td>\n",
       "      <td>180.249471</td>\n",
       "      <td>1.489698e-19</td>\n",
       "      <td>0.0</td>\n",
       "      <td>...</td>\n",
       "      <td>1.0</td>\n",
       "      <td>1.0</td>\n",
       "      <td>1.0</td>\n",
       "      <td>60.0</td>\n",
       "      <td>0.0</td>\n",
       "      <td>0.0</td>\n",
       "      <td>-2.374557e-05</td>\n",
       "      <td>85.4</td>\n",
       "      <td>0.0</td>\n",
       "      <td>77</td>\n",
       "    </tr>\n",
       "    <tr>\n",
       "      <td>2</td>\n",
       "      <td>105</td>\n",
       "      <td>30.488713</td>\n",
       "      <td>8.727617</td>\n",
       "      <td>8.704063</td>\n",
       "      <td>8.735527</td>\n",
       "      <td>8.695147</td>\n",
       "      <td>211.251065</td>\n",
       "      <td>203.137411</td>\n",
       "      <td>-4.623827e-19</td>\n",
       "      <td>0.0</td>\n",
       "      <td>...</td>\n",
       "      <td>1.0</td>\n",
       "      <td>1.0</td>\n",
       "      <td>1.0</td>\n",
       "      <td>60.0</td>\n",
       "      <td>0.0</td>\n",
       "      <td>0.0</td>\n",
       "      <td>6.323392e-07</td>\n",
       "      <td>85.4</td>\n",
       "      <td>0.0</td>\n",
       "      <td>77</td>\n",
       "    </tr>\n",
       "    <tr>\n",
       "      <td>3</td>\n",
       "      <td>105</td>\n",
       "      <td>30.480049</td>\n",
       "      <td>8.648655</td>\n",
       "      <td>8.703581</td>\n",
       "      <td>8.701050</td>\n",
       "      <td>8.712508</td>\n",
       "      <td>191.682448</td>\n",
       "      <td>229.797028</td>\n",
       "      <td>-4.555857e-20</td>\n",
       "      <td>0.0</td>\n",
       "      <td>...</td>\n",
       "      <td>1.0</td>\n",
       "      <td>1.0</td>\n",
       "      <td>1.0</td>\n",
       "      <td>60.0</td>\n",
       "      <td>0.0</td>\n",
       "      <td>0.0</td>\n",
       "      <td>-1.886027e-07</td>\n",
       "      <td>85.4</td>\n",
       "      <td>0.0</td>\n",
       "      <td>77</td>\n",
       "    </tr>\n",
       "    <tr>\n",
       "      <td>4</td>\n",
       "      <td>105</td>\n",
       "      <td>30.458851</td>\n",
       "      <td>8.775581</td>\n",
       "      <td>8.692660</td>\n",
       "      <td>8.668370</td>\n",
       "      <td>8.693597</td>\n",
       "      <td>171.733996</td>\n",
       "      <td>197.299448</td>\n",
       "      <td>2.670567e-19</td>\n",
       "      <td>0.0</td>\n",
       "      <td>...</td>\n",
       "      <td>1.0</td>\n",
       "      <td>1.0</td>\n",
       "      <td>1.0</td>\n",
       "      <td>60.0</td>\n",
       "      <td>0.0</td>\n",
       "      <td>0.0</td>\n",
       "      <td>6.486860e-06</td>\n",
       "      <td>85.4</td>\n",
       "      <td>0.0</td>\n",
       "      <td>77</td>\n",
       "    </tr>\n",
       "    <tr>\n",
       "      <td>...</td>\n",
       "      <td>...</td>\n",
       "      <td>...</td>\n",
       "      <td>...</td>\n",
       "      <td>...</td>\n",
       "      <td>...</td>\n",
       "      <td>...</td>\n",
       "      <td>...</td>\n",
       "      <td>...</td>\n",
       "      <td>...</td>\n",
       "      <td>...</td>\n",
       "      <td>...</td>\n",
       "      <td>...</td>\n",
       "      <td>...</td>\n",
       "      <td>...</td>\n",
       "      <td>...</td>\n",
       "      <td>...</td>\n",
       "      <td>...</td>\n",
       "      <td>...</td>\n",
       "      <td>...</td>\n",
       "      <td>...</td>\n",
       "      <td>...</td>\n",
       "    </tr>\n",
       "    <tr>\n",
       "      <td>91075</td>\n",
       "      <td>412</td>\n",
       "      <td>30.492960</td>\n",
       "      <td>8.744885</td>\n",
       "      <td>8.717549</td>\n",
       "      <td>8.680362</td>\n",
       "      <td>8.695514</td>\n",
       "      <td>199.515275</td>\n",
       "      <td>169.003273</td>\n",
       "      <td>-2.312561e-19</td>\n",
       "      <td>0.0</td>\n",
       "      <td>...</td>\n",
       "      <td>1.0</td>\n",
       "      <td>1.0</td>\n",
       "      <td>1.0</td>\n",
       "      <td>60.0</td>\n",
       "      <td>0.0</td>\n",
       "      <td>0.0</td>\n",
       "      <td>-7.233104e-06</td>\n",
       "      <td>85.4</td>\n",
       "      <td>0.0</td>\n",
       "      <td>19</td>\n",
       "    </tr>\n",
       "    <tr>\n",
       "      <td>91076</td>\n",
       "      <td>412</td>\n",
       "      <td>30.484724</td>\n",
       "      <td>8.699884</td>\n",
       "      <td>8.703983</td>\n",
       "      <td>8.673985</td>\n",
       "      <td>8.714074</td>\n",
       "      <td>165.587301</td>\n",
       "      <td>156.150820</td>\n",
       "      <td>5.344420e-19</td>\n",
       "      <td>0.0</td>\n",
       "      <td>...</td>\n",
       "      <td>1.0</td>\n",
       "      <td>1.0</td>\n",
       "      <td>1.0</td>\n",
       "      <td>60.0</td>\n",
       "      <td>0.0</td>\n",
       "      <td>0.0</td>\n",
       "      <td>-4.060542e-07</td>\n",
       "      <td>85.4</td>\n",
       "      <td>0.0</td>\n",
       "      <td>19</td>\n",
       "    </tr>\n",
       "    <tr>\n",
       "      <td>91077</td>\n",
       "      <td>412</td>\n",
       "      <td>30.502568</td>\n",
       "      <td>8.684008</td>\n",
       "      <td>8.687454</td>\n",
       "      <td>8.679443</td>\n",
       "      <td>8.722234</td>\n",
       "      <td>170.653265</td>\n",
       "      <td>204.056076</td>\n",
       "      <td>5.437461e-19</td>\n",
       "      <td>0.0</td>\n",
       "      <td>...</td>\n",
       "      <td>1.0</td>\n",
       "      <td>1.0</td>\n",
       "      <td>1.0</td>\n",
       "      <td>60.0</td>\n",
       "      <td>0.0</td>\n",
       "      <td>0.0</td>\n",
       "      <td>3.080914e-06</td>\n",
       "      <td>85.4</td>\n",
       "      <td>0.0</td>\n",
       "      <td>19</td>\n",
       "    </tr>\n",
       "    <tr>\n",
       "      <td>91078</td>\n",
       "      <td>412</td>\n",
       "      <td>30.520585</td>\n",
       "      <td>8.622467</td>\n",
       "      <td>8.695733</td>\n",
       "      <td>8.668384</td>\n",
       "      <td>8.701016</td>\n",
       "      <td>160.572151</td>\n",
       "      <td>141.810196</td>\n",
       "      <td>-4.936979e-19</td>\n",
       "      <td>0.0</td>\n",
       "      <td>...</td>\n",
       "      <td>1.0</td>\n",
       "      <td>1.0</td>\n",
       "      <td>1.0</td>\n",
       "      <td>60.0</td>\n",
       "      <td>0.0</td>\n",
       "      <td>0.0</td>\n",
       "      <td>9.603815e-07</td>\n",
       "      <td>85.4</td>\n",
       "      <td>0.0</td>\n",
       "      <td>19</td>\n",
       "    </tr>\n",
       "    <tr>\n",
       "      <td>91079</td>\n",
       "      <td>412</td>\n",
       "      <td>30.567411</td>\n",
       "      <td>8.811431</td>\n",
       "      <td>8.714334</td>\n",
       "      <td>8.717733</td>\n",
       "      <td>8.738115</td>\n",
       "      <td>168.814846</td>\n",
       "      <td>135.900461</td>\n",
       "      <td>-6.395059e-19</td>\n",
       "      <td>0.0</td>\n",
       "      <td>...</td>\n",
       "      <td>1.0</td>\n",
       "      <td>1.0</td>\n",
       "      <td>1.0</td>\n",
       "      <td>60.0</td>\n",
       "      <td>0.0</td>\n",
       "      <td>0.0</td>\n",
       "      <td>1.159465e-05</td>\n",
       "      <td>85.4</td>\n",
       "      <td>0.0</td>\n",
       "      <td>19</td>\n",
       "    </tr>\n",
       "  </tbody>\n",
       "</table>\n",
       "<p>91080 rows × 5123 columns</p>\n",
       "</div>"
      ],
      "text/plain": [
       "       index      V0000     V0001     V0002     V0003     V0004       V0005  \\\n",
       "0        105  30.464769  8.677597  8.702804  8.730314  8.710375  188.466110   \n",
       "1        105  30.464943  8.791777  8.741013  8.713725  8.719421  217.356293   \n",
       "2        105  30.488713  8.727617  8.704063  8.735527  8.695147  211.251065   \n",
       "3        105  30.480049  8.648655  8.703581  8.701050  8.712508  191.682448   \n",
       "4        105  30.458851  8.775581  8.692660  8.668370  8.693597  171.733996   \n",
       "...      ...        ...       ...       ...       ...       ...         ...   \n",
       "91075    412  30.492960  8.744885  8.717549  8.680362  8.695514  199.515275   \n",
       "91076    412  30.484724  8.699884  8.703983  8.673985  8.714074  165.587301   \n",
       "91077    412  30.502568  8.684008  8.687454  8.679443  8.722234  170.653265   \n",
       "91078    412  30.520585  8.622467  8.695733  8.668384  8.701016  160.572151   \n",
       "91079    412  30.567411  8.811431  8.714334  8.717733  8.738115  168.814846   \n",
       "\n",
       "            V0006         V0007  V0008  ...  V5112  V5113  V5114  V5115  \\\n",
       "0      192.279094  3.577269e-19    0.0  ...    1.0    1.0    1.0   60.0   \n",
       "1      180.249471  1.489698e-19    0.0  ...    1.0    1.0    1.0   60.0   \n",
       "2      203.137411 -4.623827e-19    0.0  ...    1.0    1.0    1.0   60.0   \n",
       "3      229.797028 -4.555857e-20    0.0  ...    1.0    1.0    1.0   60.0   \n",
       "4      197.299448  2.670567e-19    0.0  ...    1.0    1.0    1.0   60.0   \n",
       "...           ...           ...    ...  ...    ...    ...    ...    ...   \n",
       "91075  169.003273 -2.312561e-19    0.0  ...    1.0    1.0    1.0   60.0   \n",
       "91076  156.150820  5.344420e-19    0.0  ...    1.0    1.0    1.0   60.0   \n",
       "91077  204.056076  5.437461e-19    0.0  ...    1.0    1.0    1.0   60.0   \n",
       "91078  141.810196 -4.936979e-19    0.0  ...    1.0    1.0    1.0   60.0   \n",
       "91079  135.900461 -6.395059e-19    0.0  ...    1.0    1.0    1.0   60.0   \n",
       "\n",
       "       V5116  V5117         V5118  V5119  V5120  label  \n",
       "0        0.0    0.0  5.235258e-08   85.4    0.0     77  \n",
       "1        0.0    0.0 -2.374557e-05   85.4    0.0     77  \n",
       "2        0.0    0.0  6.323392e-07   85.4    0.0     77  \n",
       "3        0.0    0.0 -1.886027e-07   85.4    0.0     77  \n",
       "4        0.0    0.0  6.486860e-06   85.4    0.0     77  \n",
       "...      ...    ...           ...    ...    ...    ...  \n",
       "91075    0.0    0.0 -7.233104e-06   85.4    0.0     19  \n",
       "91076    0.0    0.0 -4.060542e-07   85.4    0.0     19  \n",
       "91077    0.0    0.0  3.080914e-06   85.4    0.0     19  \n",
       "91078    0.0    0.0  9.603815e-07   85.4    0.0     19  \n",
       "91079    0.0    0.0  1.159465e-05   85.4    0.0     19  \n",
       "\n",
       "[91080 rows x 5123 columns]"
      ]
     },
     "execution_count": 8,
     "metadata": {},
     "output_type": "execute_result"
    }
   ],
   "source": [
    "train"
   ]
  },
  {
   "cell_type": "code",
   "execution_count": 57,
   "metadata": {
    "ExecuteTime": {
     "end_time": "2020-01-31T04:20:03.030617Z",
     "start_time": "2020-01-31T04:20:03.025729Z"
    }
   },
   "outputs": [
    {
     "data": {
      "text/plain": [
       "5121"
      ]
     },
     "execution_count": 57,
     "metadata": {},
     "output_type": "execute_result"
    }
   ],
   "source": [
    "fea_cols = [c for c in train.columns if c[0] == 'V']\n",
    "len(fea_cols)"
   ]
  },
  {
   "cell_type": "code",
   "execution_count": 1,
   "metadata": {
    "ExecuteTime": {
     "end_time": "2020-02-03T05:36:19.094170Z",
     "start_time": "2020-02-03T05:36:19.058610Z"
    }
   },
   "outputs": [
    {
     "ename": "NameError",
     "evalue": "name 'joblib' is not defined",
     "output_type": "error",
     "traceback": [
      "\u001b[0;31m---------------------------------------------------------------------------\u001b[0m",
      "\u001b[0;31mNameError\u001b[0m                                 Traceback (most recent call last)",
      "\u001b[0;32m<ipython-input-1-f974b1ed2d90>\u001b[0m in \u001b[0;36m<module>\u001b[0;34m\u001b[0m\n\u001b[0;32m----> 1\u001b[0;31m \u001b[0mzero_cols\u001b[0m \u001b[0;34m=\u001b[0m \u001b[0mjoblib\u001b[0m\u001b[0;34m.\u001b[0m\u001b[0mload\u001b[0m\u001b[0;34m(\u001b[0m\u001b[0;34m'zero_cols.bin'\u001b[0m\u001b[0;34m)\u001b[0m\u001b[0;34m\u001b[0m\u001b[0;34m\u001b[0m\u001b[0m\n\u001b[0m\u001b[1;32m      2\u001b[0m \u001b[0mfea_cols\u001b[0m \u001b[0;34m=\u001b[0m \u001b[0;34m[\u001b[0m\u001b[0mc\u001b[0m \u001b[0;32mfor\u001b[0m \u001b[0mc\u001b[0m \u001b[0;32min\u001b[0m \u001b[0mfea_cols\u001b[0m \u001b[0;32mif\u001b[0m \u001b[0mc\u001b[0m \u001b[0;32mnot\u001b[0m \u001b[0;32min\u001b[0m \u001b[0mzero_cols\u001b[0m\u001b[0;34m]\u001b[0m\u001b[0;34m\u001b[0m\u001b[0;34m\u001b[0m\u001b[0m\n",
      "\u001b[0;31mNameError\u001b[0m: name 'joblib' is not defined"
     ]
    }
   ],
   "source": [
    "zero_cols = joblib.load('zero_cols.bin')\n",
    "fea_cols = [c for c in fea_cols if c not in zero_cols]"
   ]
  },
  {
   "cell_type": "code",
   "execution_count": 59,
   "metadata": {
    "ExecuteTime": {
     "end_time": "2020-01-31T04:20:04.359727Z",
     "start_time": "2020-01-31T04:20:04.357260Z"
    }
   },
   "outputs": [
    {
     "data": {
      "text/plain": [
       "2755"
      ]
     },
     "execution_count": 59,
     "metadata": {},
     "output_type": "execute_result"
    }
   ],
   "source": [
    "len(fea_cols)"
   ]
  },
  {
   "cell_type": "code",
   "execution_count": 60,
   "metadata": {
    "ExecuteTime": {
     "end_time": "2020-01-31T04:20:06.310403Z",
     "start_time": "2020-01-31T04:20:06.304198Z"
    }
   },
   "outputs": [
    {
     "data": {
      "text/plain": [
       "110    2640\n",
       "17     2310\n",
       "114    2200\n",
       "118    2200\n",
       "117    2090\n",
       "       ... \n",
       "101     110\n",
       "145     110\n",
       "37      110\n",
       "100     110\n",
       "191     110\n",
       "Name: label, Length: 198, dtype: int64"
      ]
     },
     "execution_count": 60,
     "metadata": {},
     "output_type": "execute_result"
    }
   ],
   "source": [
    "train['label'].value_counts(dropna=False)"
   ]
  },
  {
   "cell_type": "code",
   "execution_count": 61,
   "metadata": {
    "ExecuteTime": {
     "end_time": "2020-01-31T04:20:06.886200Z",
     "start_time": "2020-01-31T04:20:06.884248Z"
    }
   },
   "outputs": [],
   "source": [
    "# X_train, X_test, y_train, y_test = train_test_split(X, y, test_size=0.2, random_state=81511991154 % 2**32-1)\n",
    "\n",
    "# X_train.shape, X_test.shape"
   ]
  },
  {
   "cell_type": "code",
   "execution_count": 81,
   "metadata": {
    "ExecuteTime": {
     "end_time": "2020-02-01T01:00:03.547517Z",
     "start_time": "2020-02-01T01:00:03.541003Z"
    }
   },
   "outputs": [
    {
     "name": "stdout",
     "output_type": "stream",
     "text": [
      "model_ts 20200201T100003\n",
      "{'boosting': 'gbdt', 'num_leaves': 7, 'num_class': 198, 'objective': 'multiclass', 'metric': 'multi_logloss', 'num_threads': 14, 'learning_rate': 0.01, 'is_unbalance': True, 'bagging_fraction': 0.1, 'bagging_freq': 5, 'feature_fraction': 0.1, 'initscore_filename': ''}\n",
      "{}\n",
      "num_round: 5000\n"
     ]
    }
   ],
   "source": [
    "model_ts = datetime.now().strftime('%Y%m%dT%H%M%S')\n",
    "print('model_ts', model_ts)\n",
    "\n",
    "initscore_filename = ''\n",
    "params = {\n",
    "    'boosting':'gbdt',\n",
    "#     'boosting':'dart',\n",
    "#     'boosting':'goss',\n",
    "    'num_leaves': 7,\n",
    "#     'max_depth': 3,\n",
    "    'num_class':num_class,\n",
    "    'objective': 'multiclass',\n",
    "    'metric':'multi_logloss',\n",
    "    'num_threads': multiprocessing.cpu_count()-2,\n",
    "    'learning_rate': 0.01,\n",
    "    'is_unbalance': True,\n",
    "#     'scale_pos_weight':200,\n",
    "    'bagging_fraction':0.1,\n",
    "    'bagging_freq':5,\n",
    "    'feature_fraction':0.1,\n",
    "    'initscore_filename':initscore_filename,\n",
    "#     'lambda_l1':200,\n",
    "#     'lambda_l2':5,\n",
    "#     'device_type':'gpu',\n",
    "#     'tree_learner':'data',\n",
    "\n",
    "}\n",
    "print(params)\n",
    "\n",
    "data_params = {\n",
    "#     'max_bin':127,\n",
    "#     'enable_bundle': False,\n",
    "}\n",
    "print(data_params)\n",
    "\n",
    "num_round = 5000\n",
    "print('num_round:', num_round)"
   ]
  },
  {
   "cell_type": "code",
   "execution_count": 82,
   "metadata": {
    "ExecuteTime": {
     "end_time": "2020-02-01T01:00:06.461224Z",
     "start_time": "2020-02-01T01:00:06.459460Z"
    }
   },
   "outputs": [],
   "source": [
    "# init_model = joblib.load('model/20200129T111708_0.27524341757899773.model')"
   ]
  },
  {
   "cell_type": "code",
   "execution_count": 83,
   "metadata": {
    "ExecuteTime": {
     "end_time": "2020-02-01T01:00:06.796564Z",
     "start_time": "2020-02-01T01:00:06.794636Z"
    }
   },
   "outputs": [],
   "source": [
    "# 0.02x overfit 0.805803\n",
    "\n",
    "# 0.08323 0.635796\n",
    "# 0.174632 0.727734"
   ]
  },
  {
   "cell_type": "code",
   "execution_count": 84,
   "metadata": {
    "ExecuteTime": {
     "end_time": "2020-02-01T01:00:07.799933Z",
     "start_time": "2020-02-01T01:00:07.797954Z"
    }
   },
   "outputs": [],
   "source": [
    "# init_model = joblib.load('model/20200129T165945_2.4140061681306326_0.1554147776143923.model')"
   ]
  },
  {
   "cell_type": "code",
   "execution_count": null,
   "metadata": {
    "ExecuteTime": {
     "end_time": "2020-02-01T10:43:29.149862Z",
     "start_time": "2020-02-01T01:00:08.815137Z"
    }
   },
   "outputs": [],
   "source": [
    "model = None\n",
    "submit_csv = []\n",
    "n_splits = 10\n",
    "skf = StratifiedKFold(n_splits=n_splits, random_state=81511991154 % 2**32-1, shuffle=True)\n",
    "\n",
    "cv = 0\n",
    "for train_index, valid_index in tqdm_notebook(skf.split(train.index, train['label'].values), total=n_splits, desc = 'CV'):\n",
    "#     cnt += 1\n",
    "#     print(cnt)\n",
    "#     if cnt < 3:\n",
    "#         continue\n",
    "\n",
    "    \n",
    "    X_train, X_test = train.loc[train_index, fea_cols], train.loc[valid_index, fea_cols] \n",
    "    y_train, y_test = train.loc[train_index,'label'], train.loc[valid_index, 'label']    \n",
    "    \n",
    "    print(X_train.shape, X_test.shape)\n",
    "#     print(y_train.value_counts(dropna=False))\n",
    "#     print(y_test.value_counts(dropna=False))\n",
    "    \n",
    "    \n",
    "    train_set = lgb.Dataset(X_train, label=y_train, params=data_params)\n",
    "    val_set = lgb.Dataset(X_test, label=y_test, params=data_params)\n",
    "\n",
    "    evals_result = {}\n",
    "    model = lgb.train(params, train_set, num_round, early_stopping_rounds=200, \n",
    "                            valid_sets=[train_set, val_set],\n",
    "                            verbose_eval=50,\n",
    "                            evals_result=evals_result,\n",
    "#                             init_model=model,\n",
    "                           )\n",
    "\n",
    "    model_tag ='{}_{}_{}_{}'.format(model_ts, cv,\n",
    "                                 evals_result['valid_1']['multi_logloss'][model.best_iteration-1],\n",
    "                                 evals_result['training']['multi_logloss'][model.best_iteration-1]\n",
    "                                )\n",
    "    print(model_tag)\n",
    "\n",
    "    joblib.dump(model, 'model/{}.model'.format(model_tag))\n",
    "    \n",
    "    \n",
    "    pred = model.predict(test[fea_cols])\n",
    "\n",
    "    submission = pd.DataFrame(data=pred)\n",
    "    submission.index = test.index\n",
    "    submission.index.name = 'id'\n",
    "    submission = submission.sort_index()\n",
    "    submission = submission.groupby('id').mean()\n",
    "\n",
    "    csv_path = 'submit/{}.csv'.format(model_tag)\n",
    "    submit_csv.append(csv_path)\n",
    "    submission.to_csv(    csv_path, index=True) \n",
    "    \n",
    "    print(submission.sum(axis=1))\n",
    "    print(submission)\n",
    "    cv += 1\n",
    "#     break"
   ]
  },
  {
   "cell_type": "code",
   "execution_count": 86,
   "metadata": {
    "ExecuteTime": {
     "end_time": "2020-02-01T20:58:56.202730Z",
     "start_time": "2020-02-01T20:58:55.798495Z"
    }
   },
   "outputs": [],
   "source": [
    "# submissions = [\n",
    "# 'submit/20200201T193822_0.42165222105307115_0.03657010393259738.csv',\n",
    "# 'submit/20200201T183544_0.4354487978488266_0.04354968619883053.csv',\n",
    "# 'submit/20200201T173725_0.423066834354457_0.03614391993976106.csv',\n",
    "# 'submit/20200201T163343_0.4287587567261741_0.042392138498467166.csv',\n",
    "# 'submit/20200201T153529_0.42326652930531944_0.04098269988118284.csv',\n",
    "# 'submit/20200201T143616_0.4258237823312355_0.04651153387555587.csv',\n",
    "# 'submit/20200201T134047_0.43147156765580946_0.043682031170534714.csv',\n",
    "# 'submit/20200201T125939_0.42958065644660504_0.040012625819045466.csv',\n",
    "# 'submit/20200201T120739_0.42070899280425217_0.03477196302416032.csv',\n",
    "# 'submit/20200201T110556_0.4181683365658109_0.043843902710973416.csv',\n",
    "# ]\n",
    "\n",
    "\n",
    "dfs = [pd.read_csv(s) for s in submit_csv]\n",
    "\n",
    "df_submit = pd.concat(dfs)\n",
    "\n",
    "df_submit = df_submit.groupby('id').mean()\n",
    "\n",
    "df_submit.to_csv('submit/{}_e{}.csv'.format(model_ts, n_splits), index=True) "
   ]
  },
  {
   "cell_type": "code",
   "execution_count": 87,
   "metadata": {
    "ExecuteTime": {
     "end_time": "2020-02-01T20:59:03.492515Z",
     "start_time": "2020-02-01T20:59:03.487332Z"
    }
   },
   "outputs": [
    {
     "data": {
      "text/plain": [
       "id\n",
       "828     1.0\n",
       "829     1.0\n",
       "830     1.0\n",
       "831     1.0\n",
       "832     1.0\n",
       "       ... \n",
       "1543    1.0\n",
       "1544    1.0\n",
       "1545    1.0\n",
       "1546    1.0\n",
       "1547    1.0\n",
       "Length: 720, dtype: float64"
      ]
     },
     "execution_count": 87,
     "metadata": {},
     "output_type": "execute_result"
    }
   ],
   "source": [
    "df_submit.sum(1)"
   ]
  },
  {
   "cell_type": "code",
   "execution_count": 55,
   "metadata": {
    "ExecuteTime": {
     "end_time": "2020-01-31T04:19:45.983816Z",
     "start_time": "2020-01-31T04:19:45.934131Z"
    }
   },
   "outputs": [
    {
     "data": {
      "text/plain": [
       "2366"
      ]
     },
     "execution_count": 55,
     "metadata": {},
     "output_type": "execute_result"
    }
   ],
   "source": [
    "importance_type = 'split'\n",
    "impt_dict = {k:v for k, v in zip(fea_cols, model.feature_importance(importance_type=importance_type))}\n",
    "# sorted(impt_dict.items(), key=(lambda x:x[1]), reverse=True)\n",
    "# zero_cols = []\n",
    "for k, s in sorted(impt_dict.items(), key=(lambda x:x[1]), reverse=False):\n",
    "    if s == 0:\n",
    "        zero_cols.append(k)\n",
    "# joblib.dump(impt_dict, f'model/{file_name}_{importance_type}.pkl')\n",
    "\n",
    "len(zero_cols)"
   ]
  },
  {
   "cell_type": "code",
   "execution_count": 56,
   "metadata": {
    "ExecuteTime": {
     "end_time": "2020-01-31T04:19:51.274031Z",
     "start_time": "2020-01-31T04:19:51.251034Z"
    },
    "scrolled": true
   },
   "outputs": [
    {
     "data": {
      "text/plain": [
       "['zero_cols.bin']"
      ]
     },
     "execution_count": 56,
     "metadata": {},
     "output_type": "execute_result"
    }
   ],
   "source": [
    "joblib.dump(zero_cols, 'zero_cols.bin')"
   ]
  },
  {
   "cell_type": "code",
   "execution_count": 17,
   "metadata": {
    "ExecuteTime": {
     "end_time": "2020-01-31T03:29:28.088477Z",
     "start_time": "2020-01-31T03:29:28.086982Z"
    }
   },
   "outputs": [],
   "source": [
    "# model = joblib.load('model/20200130T221520_2.4393985000913667_0.07225009557115544.model')"
   ]
  },
  {
   "cell_type": "code",
   "execution_count": 18,
   "metadata": {
    "ExecuteTime": {
     "end_time": "2020-01-31T03:29:28.101673Z",
     "start_time": "2020-01-31T03:29:28.089241Z"
    },
    "scrolled": true
   },
   "outputs": [],
   "source": [
    "# pred = model.predict(test)\n",
    "\n",
    "# submission = pd.DataFrame(data=pred)\n",
    "# submission.index = test.index\n",
    "# submission.index.name = 'id'\n",
    "# submission = submission.sort_index()\n",
    "# submission = submission.groupby('id').mean()\n",
    "\n",
    "# submission.to_csv('submit/{}.csv'.format(model_tag), index=True) \n",
    "# model_tag\n",
    "\n",
    "# submission.sum(axis=1)\n",
    "\n",
    "# submission"
   ]
  },
  {
   "cell_type": "code",
   "execution_count": null,
   "metadata": {},
   "outputs": [],
   "source": []
  }
 ],
 "metadata": {
  "kernelspec": {
   "display_name": "Python 3",
   "language": "python",
   "name": "python3"
  },
  "language_info": {
   "codemirror_mode": {
    "name": "ipython",
    "version": 3
   },
   "file_extension": ".py",
   "mimetype": "text/x-python",
   "name": "python",
   "nbconvert_exporter": "python",
   "pygments_lexer": "ipython3",
   "version": "3.7.4"
  },
  "toc": {
   "base_numbering": 1,
   "nav_menu": {},
   "number_sections": true,
   "sideBar": true,
   "skip_h1_title": false,
   "title_cell": "Table of Contents",
   "title_sidebar": "Contents",
   "toc_cell": false,
   "toc_position": {},
   "toc_section_display": true,
   "toc_window_display": false
  }
 },
 "nbformat": 4,
 "nbformat_minor": 2
}
