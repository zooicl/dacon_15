{
 "cells": [
  {
   "cell_type": "code",
   "execution_count": 1,
   "metadata": {
    "ExecuteTime": {
     "end_time": "2020-01-31T01:30:34.200025Z",
     "start_time": "2020-01-31T01:30:33.721870Z"
    }
   },
   "outputs": [],
   "source": [
    "import os\n",
    "import pandas as pd \n",
    "import numpy as np\n",
    "import multiprocessing # 여러 개의 일꾼 (cpu)들에게 작업을 분산시키는 역할\n",
    "from multiprocessing import Pool \n",
    "from functools import partial # 함수가 받는 인자들 중 몇개를 고정 시켜서 새롭게 파생된 함수를 형성하는 역할\n",
    "from data_loader import data_loader_v2 # 자체적으로 만든 data loader version 2.0 ([데이콘 15회 대회] 데이터 설명 및 데이터 불러오기 영상 참조)\n",
    "\n",
    "from sklearn.ensemble import RandomForestClassifier\n",
    "import joblib # 모델을 저장하고 불러오는 역\n",
    "from datetime import datetime\n",
    "\n",
    "import lightgbm as lgb\n",
    "\n",
    "from sklearn.model_selection import train_test_split\n",
    "from sklearn.model_selection import StratifiedKFold\n",
    "from tqdm import tqdm_notebook\n",
    "\n"
   ]
  },
  {
   "cell_type": "code",
   "execution_count": 2,
   "metadata": {
    "ExecuteTime": {
     "end_time": "2020-01-31T01:30:34.203005Z",
     "start_time": "2020-01-31T01:30:34.201177Z"
    }
   },
   "outputs": [],
   "source": [
    "train_folder = 'data/train/'\n",
    "test_folder = 'data/test/'\n",
    "train_label_path = 'data/train_label.csv'"
   ]
  },
  {
   "cell_type": "code",
   "execution_count": 3,
   "metadata": {
    "ExecuteTime": {
     "end_time": "2020-01-31T01:30:34.215086Z",
     "start_time": "2020-01-31T01:30:34.204147Z"
    }
   },
   "outputs": [],
   "source": [
    "train_list = os.listdir(train_folder)\n",
    "test_list = os.listdir(test_folder)\n",
    "train_label = pd.read_csv(train_label_path, index_col=0)"
   ]
  },
  {
   "cell_type": "code",
   "execution_count": 4,
   "metadata": {
    "ExecuteTime": {
     "end_time": "2020-01-31T01:30:34.219005Z",
     "start_time": "2020-01-31T01:30:34.216622Z"
    }
   },
   "outputs": [],
   "source": [
    "num_class = len(train_label['label'].unique())"
   ]
  },
  {
   "cell_type": "code",
   "execution_count": 5,
   "metadata": {
    "ExecuteTime": {
     "end_time": "2020-01-31T01:30:34.224859Z",
     "start_time": "2020-01-31T01:30:34.220124Z"
    }
   },
   "outputs": [],
   "source": [
    "# 모든 csv 파일의 상태_B로 변화는 시점이 같다라고 가정\n",
    "# 하지만, 개별 csv파일의 상태_B로 변화는 시점은 상이할 수 있음\n",
    "def data_loader_all_v2(func, files, folder='', train_label=None, event_time=10, nrows=60):   \n",
    "    func_fixed = partial(func, folder=folder, train_label=train_label, event_time=event_time, nrows=nrows)     \n",
    "    if __name__ == '__main__':\n",
    "        pool = Pool(processes=multiprocessing.cpu_count()-2) \n",
    "        df_list = list(pool.imap(func_fixed, files)) \n",
    "        pool.close()\n",
    "        pool.join()        \n",
    "    combined_df = pd.concat(df_list)    \n",
    "    return combined_df"
   ]
  },
  {
   "cell_type": "code",
   "execution_count": 6,
   "metadata": {
    "ExecuteTime": {
     "end_time": "2020-01-31T01:30:34.230631Z",
     "start_time": "2020-01-31T01:30:34.225692Z"
    }
   },
   "outputs": [],
   "source": [
    "# train = data_loader_all_v2(data_loader_v2, train_list, folder=train_folder, train_label=train_label, \n",
    "#                            event_time=10, nrows=120)\n",
    "# print(train.shape)\n",
    "\n",
    "# test = data_loader_all_v2(data_loader_v2, test_list, folder=test_folder, train_label=None, event_time=10, nrows=None)\n",
    "# print(test.shape)\n"
   ]
  },
  {
   "cell_type": "code",
   "execution_count": 7,
   "metadata": {
    "ExecuteTime": {
     "end_time": "2020-01-31T01:30:39.956945Z",
     "start_time": "2020-01-31T01:30:34.231436Z"
    }
   },
   "outputs": [],
   "source": [
    "train = joblib.load('data/df_train_10_120.pkl').reset_index()\n",
    "test = joblib.load('data/df_test_10.pkl')\n"
   ]
  },
  {
   "cell_type": "code",
   "execution_count": 8,
   "metadata": {
    "ExecuteTime": {
     "end_time": "2020-01-31T01:30:39.990050Z",
     "start_time": "2020-01-31T01:30:39.957834Z"
    },
    "scrolled": true
   },
   "outputs": [
    {
     "data": {
      "text/html": [
       "<div>\n",
       "<style scoped>\n",
       "    .dataframe tbody tr th:only-of-type {\n",
       "        vertical-align: middle;\n",
       "    }\n",
       "\n",
       "    .dataframe tbody tr th {\n",
       "        vertical-align: top;\n",
       "    }\n",
       "\n",
       "    .dataframe thead th {\n",
       "        text-align: right;\n",
       "    }\n",
       "</style>\n",
       "<table border=\"1\" class=\"dataframe\">\n",
       "  <thead>\n",
       "    <tr style=\"text-align: right;\">\n",
       "      <th></th>\n",
       "      <th>index</th>\n",
       "      <th>V0000</th>\n",
       "      <th>V0001</th>\n",
       "      <th>V0002</th>\n",
       "      <th>V0003</th>\n",
       "      <th>V0004</th>\n",
       "      <th>V0005</th>\n",
       "      <th>V0006</th>\n",
       "      <th>V0007</th>\n",
       "      <th>V0008</th>\n",
       "      <th>...</th>\n",
       "      <th>V5112</th>\n",
       "      <th>V5113</th>\n",
       "      <th>V5114</th>\n",
       "      <th>V5115</th>\n",
       "      <th>V5116</th>\n",
       "      <th>V5117</th>\n",
       "      <th>V5118</th>\n",
       "      <th>V5119</th>\n",
       "      <th>V5120</th>\n",
       "      <th>label</th>\n",
       "    </tr>\n",
       "  </thead>\n",
       "  <tbody>\n",
       "    <tr>\n",
       "      <td>0</td>\n",
       "      <td>105</td>\n",
       "      <td>30.464769</td>\n",
       "      <td>8.677597</td>\n",
       "      <td>8.702804</td>\n",
       "      <td>8.730314</td>\n",
       "      <td>8.710375</td>\n",
       "      <td>188.466110</td>\n",
       "      <td>192.279094</td>\n",
       "      <td>3.577269e-19</td>\n",
       "      <td>0.0</td>\n",
       "      <td>...</td>\n",
       "      <td>1.0</td>\n",
       "      <td>1.0</td>\n",
       "      <td>1.0</td>\n",
       "      <td>60.0</td>\n",
       "      <td>0.0</td>\n",
       "      <td>0.0</td>\n",
       "      <td>5.235258e-08</td>\n",
       "      <td>85.4</td>\n",
       "      <td>0.0</td>\n",
       "      <td>77</td>\n",
       "    </tr>\n",
       "    <tr>\n",
       "      <td>1</td>\n",
       "      <td>105</td>\n",
       "      <td>30.464943</td>\n",
       "      <td>8.791777</td>\n",
       "      <td>8.741013</td>\n",
       "      <td>8.713725</td>\n",
       "      <td>8.719421</td>\n",
       "      <td>217.356293</td>\n",
       "      <td>180.249471</td>\n",
       "      <td>1.489698e-19</td>\n",
       "      <td>0.0</td>\n",
       "      <td>...</td>\n",
       "      <td>1.0</td>\n",
       "      <td>1.0</td>\n",
       "      <td>1.0</td>\n",
       "      <td>60.0</td>\n",
       "      <td>0.0</td>\n",
       "      <td>0.0</td>\n",
       "      <td>-2.374557e-05</td>\n",
       "      <td>85.4</td>\n",
       "      <td>0.0</td>\n",
       "      <td>77</td>\n",
       "    </tr>\n",
       "    <tr>\n",
       "      <td>2</td>\n",
       "      <td>105</td>\n",
       "      <td>30.488713</td>\n",
       "      <td>8.727617</td>\n",
       "      <td>8.704063</td>\n",
       "      <td>8.735527</td>\n",
       "      <td>8.695147</td>\n",
       "      <td>211.251065</td>\n",
       "      <td>203.137411</td>\n",
       "      <td>-4.623827e-19</td>\n",
       "      <td>0.0</td>\n",
       "      <td>...</td>\n",
       "      <td>1.0</td>\n",
       "      <td>1.0</td>\n",
       "      <td>1.0</td>\n",
       "      <td>60.0</td>\n",
       "      <td>0.0</td>\n",
       "      <td>0.0</td>\n",
       "      <td>6.323392e-07</td>\n",
       "      <td>85.4</td>\n",
       "      <td>0.0</td>\n",
       "      <td>77</td>\n",
       "    </tr>\n",
       "    <tr>\n",
       "      <td>3</td>\n",
       "      <td>105</td>\n",
       "      <td>30.480049</td>\n",
       "      <td>8.648655</td>\n",
       "      <td>8.703581</td>\n",
       "      <td>8.701050</td>\n",
       "      <td>8.712508</td>\n",
       "      <td>191.682448</td>\n",
       "      <td>229.797028</td>\n",
       "      <td>-4.555857e-20</td>\n",
       "      <td>0.0</td>\n",
       "      <td>...</td>\n",
       "      <td>1.0</td>\n",
       "      <td>1.0</td>\n",
       "      <td>1.0</td>\n",
       "      <td>60.0</td>\n",
       "      <td>0.0</td>\n",
       "      <td>0.0</td>\n",
       "      <td>-1.886027e-07</td>\n",
       "      <td>85.4</td>\n",
       "      <td>0.0</td>\n",
       "      <td>77</td>\n",
       "    </tr>\n",
       "    <tr>\n",
       "      <td>4</td>\n",
       "      <td>105</td>\n",
       "      <td>30.458851</td>\n",
       "      <td>8.775581</td>\n",
       "      <td>8.692660</td>\n",
       "      <td>8.668370</td>\n",
       "      <td>8.693597</td>\n",
       "      <td>171.733996</td>\n",
       "      <td>197.299448</td>\n",
       "      <td>2.670567e-19</td>\n",
       "      <td>0.0</td>\n",
       "      <td>...</td>\n",
       "      <td>1.0</td>\n",
       "      <td>1.0</td>\n",
       "      <td>1.0</td>\n",
       "      <td>60.0</td>\n",
       "      <td>0.0</td>\n",
       "      <td>0.0</td>\n",
       "      <td>6.486860e-06</td>\n",
       "      <td>85.4</td>\n",
       "      <td>0.0</td>\n",
       "      <td>77</td>\n",
       "    </tr>\n",
       "    <tr>\n",
       "      <td>...</td>\n",
       "      <td>...</td>\n",
       "      <td>...</td>\n",
       "      <td>...</td>\n",
       "      <td>...</td>\n",
       "      <td>...</td>\n",
       "      <td>...</td>\n",
       "      <td>...</td>\n",
       "      <td>...</td>\n",
       "      <td>...</td>\n",
       "      <td>...</td>\n",
       "      <td>...</td>\n",
       "      <td>...</td>\n",
       "      <td>...</td>\n",
       "      <td>...</td>\n",
       "      <td>...</td>\n",
       "      <td>...</td>\n",
       "      <td>...</td>\n",
       "      <td>...</td>\n",
       "      <td>...</td>\n",
       "      <td>...</td>\n",
       "      <td>...</td>\n",
       "    </tr>\n",
       "    <tr>\n",
       "      <td>91075</td>\n",
       "      <td>412</td>\n",
       "      <td>30.492960</td>\n",
       "      <td>8.744885</td>\n",
       "      <td>8.717549</td>\n",
       "      <td>8.680362</td>\n",
       "      <td>8.695514</td>\n",
       "      <td>199.515275</td>\n",
       "      <td>169.003273</td>\n",
       "      <td>-2.312561e-19</td>\n",
       "      <td>0.0</td>\n",
       "      <td>...</td>\n",
       "      <td>1.0</td>\n",
       "      <td>1.0</td>\n",
       "      <td>1.0</td>\n",
       "      <td>60.0</td>\n",
       "      <td>0.0</td>\n",
       "      <td>0.0</td>\n",
       "      <td>-7.233104e-06</td>\n",
       "      <td>85.4</td>\n",
       "      <td>0.0</td>\n",
       "      <td>19</td>\n",
       "    </tr>\n",
       "    <tr>\n",
       "      <td>91076</td>\n",
       "      <td>412</td>\n",
       "      <td>30.484724</td>\n",
       "      <td>8.699884</td>\n",
       "      <td>8.703983</td>\n",
       "      <td>8.673985</td>\n",
       "      <td>8.714074</td>\n",
       "      <td>165.587301</td>\n",
       "      <td>156.150820</td>\n",
       "      <td>5.344420e-19</td>\n",
       "      <td>0.0</td>\n",
       "      <td>...</td>\n",
       "      <td>1.0</td>\n",
       "      <td>1.0</td>\n",
       "      <td>1.0</td>\n",
       "      <td>60.0</td>\n",
       "      <td>0.0</td>\n",
       "      <td>0.0</td>\n",
       "      <td>-4.060542e-07</td>\n",
       "      <td>85.4</td>\n",
       "      <td>0.0</td>\n",
       "      <td>19</td>\n",
       "    </tr>\n",
       "    <tr>\n",
       "      <td>91077</td>\n",
       "      <td>412</td>\n",
       "      <td>30.502568</td>\n",
       "      <td>8.684008</td>\n",
       "      <td>8.687454</td>\n",
       "      <td>8.679443</td>\n",
       "      <td>8.722234</td>\n",
       "      <td>170.653265</td>\n",
       "      <td>204.056076</td>\n",
       "      <td>5.437461e-19</td>\n",
       "      <td>0.0</td>\n",
       "      <td>...</td>\n",
       "      <td>1.0</td>\n",
       "      <td>1.0</td>\n",
       "      <td>1.0</td>\n",
       "      <td>60.0</td>\n",
       "      <td>0.0</td>\n",
       "      <td>0.0</td>\n",
       "      <td>3.080914e-06</td>\n",
       "      <td>85.4</td>\n",
       "      <td>0.0</td>\n",
       "      <td>19</td>\n",
       "    </tr>\n",
       "    <tr>\n",
       "      <td>91078</td>\n",
       "      <td>412</td>\n",
       "      <td>30.520585</td>\n",
       "      <td>8.622467</td>\n",
       "      <td>8.695733</td>\n",
       "      <td>8.668384</td>\n",
       "      <td>8.701016</td>\n",
       "      <td>160.572151</td>\n",
       "      <td>141.810196</td>\n",
       "      <td>-4.936979e-19</td>\n",
       "      <td>0.0</td>\n",
       "      <td>...</td>\n",
       "      <td>1.0</td>\n",
       "      <td>1.0</td>\n",
       "      <td>1.0</td>\n",
       "      <td>60.0</td>\n",
       "      <td>0.0</td>\n",
       "      <td>0.0</td>\n",
       "      <td>9.603815e-07</td>\n",
       "      <td>85.4</td>\n",
       "      <td>0.0</td>\n",
       "      <td>19</td>\n",
       "    </tr>\n",
       "    <tr>\n",
       "      <td>91079</td>\n",
       "      <td>412</td>\n",
       "      <td>30.567411</td>\n",
       "      <td>8.811431</td>\n",
       "      <td>8.714334</td>\n",
       "      <td>8.717733</td>\n",
       "      <td>8.738115</td>\n",
       "      <td>168.814846</td>\n",
       "      <td>135.900461</td>\n",
       "      <td>-6.395059e-19</td>\n",
       "      <td>0.0</td>\n",
       "      <td>...</td>\n",
       "      <td>1.0</td>\n",
       "      <td>1.0</td>\n",
       "      <td>1.0</td>\n",
       "      <td>60.0</td>\n",
       "      <td>0.0</td>\n",
       "      <td>0.0</td>\n",
       "      <td>1.159465e-05</td>\n",
       "      <td>85.4</td>\n",
       "      <td>0.0</td>\n",
       "      <td>19</td>\n",
       "    </tr>\n",
       "  </tbody>\n",
       "</table>\n",
       "<p>91080 rows × 5123 columns</p>\n",
       "</div>"
      ],
      "text/plain": [
       "       index      V0000     V0001     V0002     V0003     V0004       V0005  \\\n",
       "0        105  30.464769  8.677597  8.702804  8.730314  8.710375  188.466110   \n",
       "1        105  30.464943  8.791777  8.741013  8.713725  8.719421  217.356293   \n",
       "2        105  30.488713  8.727617  8.704063  8.735527  8.695147  211.251065   \n",
       "3        105  30.480049  8.648655  8.703581  8.701050  8.712508  191.682448   \n",
       "4        105  30.458851  8.775581  8.692660  8.668370  8.693597  171.733996   \n",
       "...      ...        ...       ...       ...       ...       ...         ...   \n",
       "91075    412  30.492960  8.744885  8.717549  8.680362  8.695514  199.515275   \n",
       "91076    412  30.484724  8.699884  8.703983  8.673985  8.714074  165.587301   \n",
       "91077    412  30.502568  8.684008  8.687454  8.679443  8.722234  170.653265   \n",
       "91078    412  30.520585  8.622467  8.695733  8.668384  8.701016  160.572151   \n",
       "91079    412  30.567411  8.811431  8.714334  8.717733  8.738115  168.814846   \n",
       "\n",
       "            V0006         V0007  V0008  ...  V5112  V5113  V5114  V5115  \\\n",
       "0      192.279094  3.577269e-19    0.0  ...    1.0    1.0    1.0   60.0   \n",
       "1      180.249471  1.489698e-19    0.0  ...    1.0    1.0    1.0   60.0   \n",
       "2      203.137411 -4.623827e-19    0.0  ...    1.0    1.0    1.0   60.0   \n",
       "3      229.797028 -4.555857e-20    0.0  ...    1.0    1.0    1.0   60.0   \n",
       "4      197.299448  2.670567e-19    0.0  ...    1.0    1.0    1.0   60.0   \n",
       "...           ...           ...    ...  ...    ...    ...    ...    ...   \n",
       "91075  169.003273 -2.312561e-19    0.0  ...    1.0    1.0    1.0   60.0   \n",
       "91076  156.150820  5.344420e-19    0.0  ...    1.0    1.0    1.0   60.0   \n",
       "91077  204.056076  5.437461e-19    0.0  ...    1.0    1.0    1.0   60.0   \n",
       "91078  141.810196 -4.936979e-19    0.0  ...    1.0    1.0    1.0   60.0   \n",
       "91079  135.900461 -6.395059e-19    0.0  ...    1.0    1.0    1.0   60.0   \n",
       "\n",
       "       V5116  V5117         V5118  V5119  V5120  label  \n",
       "0        0.0    0.0  5.235258e-08   85.4    0.0     77  \n",
       "1        0.0    0.0 -2.374557e-05   85.4    0.0     77  \n",
       "2        0.0    0.0  6.323392e-07   85.4    0.0     77  \n",
       "3        0.0    0.0 -1.886027e-07   85.4    0.0     77  \n",
       "4        0.0    0.0  6.486860e-06   85.4    0.0     77  \n",
       "...      ...    ...           ...    ...    ...    ...  \n",
       "91075    0.0    0.0 -7.233104e-06   85.4    0.0     19  \n",
       "91076    0.0    0.0 -4.060542e-07   85.4    0.0     19  \n",
       "91077    0.0    0.0  3.080914e-06   85.4    0.0     19  \n",
       "91078    0.0    0.0  9.603815e-07   85.4    0.0     19  \n",
       "91079    0.0    0.0  1.159465e-05   85.4    0.0     19  \n",
       "\n",
       "[91080 rows x 5123 columns]"
      ]
     },
     "execution_count": 8,
     "metadata": {},
     "output_type": "execute_result"
    }
   ],
   "source": [
    "train"
   ]
  },
  {
   "cell_type": "code",
   "execution_count": 9,
   "metadata": {
    "ExecuteTime": {
     "end_time": "2020-01-31T01:30:39.994747Z",
     "start_time": "2020-01-31T01:30:39.991680Z"
    }
   },
   "outputs": [
    {
     "data": {
      "text/plain": [
       "5121"
      ]
     },
     "execution_count": 9,
     "metadata": {},
     "output_type": "execute_result"
    }
   ],
   "source": [
    "fea_cols = [c for c in train.columns if c[0] == 'V']\n",
    "len(fea_cols)"
   ]
  },
  {
   "cell_type": "code",
   "execution_count": 10,
   "metadata": {
    "ExecuteTime": {
     "end_time": "2020-01-31T01:30:39.999770Z",
     "start_time": "2020-01-31T01:30:39.995842Z"
    }
   },
   "outputs": [],
   "source": [
    "# scaler = joblib.load('scaler_20200129T135731.bin')\n",
    "\n",
    "# X[fea_cols] = scaler.transform(X[fea_cols].values)"
   ]
  },
  {
   "cell_type": "code",
   "execution_count": 11,
   "metadata": {
    "ExecuteTime": {
     "end_time": "2020-01-31T01:30:40.005211Z",
     "start_time": "2020-01-31T01:30:40.000962Z"
    }
   },
   "outputs": [],
   "source": [
    "# X_train, X_test, y_train, y_test = train_test_split(X, y, test_size=0.2, random_state=81511991154 % 2**32-1)\n",
    "\n",
    "# X_train.shape, X_test.shape"
   ]
  },
  {
   "cell_type": "code",
   "execution_count": 12,
   "metadata": {
    "ExecuteTime": {
     "end_time": "2020-01-31T01:30:42.213412Z",
     "start_time": "2020-01-31T01:30:40.006435Z"
    }
   },
   "outputs": [],
   "source": [
    "model = joblib.load('model/20200128T034443_0.0502828605482319.model')"
   ]
  },
  {
   "cell_type": "code",
   "execution_count": 13,
   "metadata": {
    "ExecuteTime": {
     "end_time": "2020-01-31T01:30:42.216278Z",
     "start_time": "2020-01-31T01:30:42.214671Z"
    }
   },
   "outputs": [],
   "source": [
    "from sklearn.metrics import log_loss\n",
    "# score = log_loss(y_test, clf_probs)"
   ]
  },
  {
   "cell_type": "code",
   "execution_count": 14,
   "metadata": {
    "ExecuteTime": {
     "end_time": "2020-01-31T01:30:42.230190Z",
     "start_time": "2020-01-31T01:30:42.217026Z"
    },
    "scrolled": true
   },
   "outputs": [
    {
     "data": {
      "text/plain": [
       "110    2640\n",
       "17     2310\n",
       "114    2200\n",
       "118    2200\n",
       "117    2090\n",
       "       ... \n",
       "101     110\n",
       "145     110\n",
       "37      110\n",
       "100     110\n",
       "191     110\n",
       "Name: label, Length: 198, dtype: int64"
      ]
     },
     "execution_count": 14,
     "metadata": {},
     "output_type": "execute_result"
    }
   ],
   "source": [
    "train['label'].value_counts(dropna=False)"
   ]
  },
  {
   "cell_type": "code",
   "execution_count": 15,
   "metadata": {
    "ExecuteTime": {
     "end_time": "2020-01-31T01:38:14.601100Z",
     "start_time": "2020-01-31T01:30:51.790578Z"
    }
   },
   "outputs": [
    {
     "name": "stdout",
     "output_type": "stream",
     "text": [
      "0.05028286053630513\n"
     ]
    }
   ],
   "source": [
    "pred = model.predict(train[fea_cols].values)\n",
    "score = log_loss(train['label'].values, pred)\n",
    "print(score)"
   ]
  },
  {
   "cell_type": "code",
   "execution_count": null,
   "metadata": {
    "ExecuteTime": {
     "end_time": "2020-01-31T01:29:31.566772Z",
     "start_time": "2020-01-31T01:27:04.761388Z"
    },
    "scrolled": false
   },
   "outputs": [],
   "source": [
    "n_splits = 10\n",
    "skf = StratifiedKFold(n_splits=n_splits, random_state=81511991154 % 2**32-1, shuffle=True)\n",
    "\n",
    "for train_index, valid_index in tqdm_notebook(skf.split(train.index, train['label'].values), total=n_splits, desc = 'CV'):\n",
    "    X_train, X_test = train.loc[train_index, fea_cols], train.loc[valid_index, fea_cols] \n",
    "    y_train, y_test = train.loc[train_index,'label'], train.loc[valid_index, 'label']\n",
    "    \n",
    "    print(X_train.shape, X_test.shape)\n",
    "    print(y_train.value_counts(dropna=False))\n",
    "    print(y_test.value_counts(dropna=False))\n",
    "    \n",
    "    pred = model.predict(X_test)\n",
    "    score = log_loss(y_test, pred)\n",
    "    print(score)\n"
   ]
  },
  {
   "cell_type": "code",
   "execution_count": null,
   "metadata": {
    "ExecuteTime": {
     "end_time": "2020-01-30T13:16:45.701866Z",
     "start_time": "2020-01-30T13:16:44.949622Z"
    }
   },
   "outputs": [],
   "source": [
    "# model = joblib.load('model/20200130T221520_2.4393985000913667_0.07225009557115544.model')"
   ]
  },
  {
   "cell_type": "code",
   "execution_count": null,
   "metadata": {
    "ExecuteTime": {
     "end_time": "2020-01-30T13:20:29.795121Z",
     "start_time": "2020-01-30T13:19:44.233746Z"
    },
    "scrolled": true
   },
   "outputs": [],
   "source": [
    "# pred = model.predict(test)\n",
    "\n",
    "# submission = pd.DataFrame(data=pred)\n",
    "# submission.index = test.index\n",
    "# submission.index.name = 'id'\n",
    "# submission = submission.sort_index()\n",
    "# submission = submission.groupby('id').mean()\n",
    "\n",
    "# submission.to_csv('submit/{}.csv'.format(model_tag), index=True) \n",
    "# model_tag\n",
    "\n",
    "# submission.sum(axis=1)\n",
    "\n",
    "# submission"
   ]
  },
  {
   "cell_type": "code",
   "execution_count": null,
   "metadata": {},
   "outputs": [],
   "source": []
  }
 ],
 "metadata": {
  "kernelspec": {
   "display_name": "Python 3",
   "language": "python",
   "name": "python3"
  },
  "language_info": {
   "codemirror_mode": {
    "name": "ipython",
    "version": 3
   },
   "file_extension": ".py",
   "mimetype": "text/x-python",
   "name": "python",
   "nbconvert_exporter": "python",
   "pygments_lexer": "ipython3",
   "version": "3.7.4"
  },
  "toc": {
   "base_numbering": 1,
   "nav_menu": {},
   "number_sections": true,
   "sideBar": true,
   "skip_h1_title": false,
   "title_cell": "Table of Contents",
   "title_sidebar": "Contents",
   "toc_cell": false,
   "toc_position": {},
   "toc_section_display": true,
   "toc_window_display": false
  }
 },
 "nbformat": 4,
 "nbformat_minor": 2
}
