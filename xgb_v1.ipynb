{
 "cells": [
  {
   "cell_type": "code",
   "execution_count": 1,
   "metadata": {
    "ExecuteTime": {
     "end_time": "2020-02-10T09:29:33.627338Z",
     "start_time": "2020-02-10T09:29:32.996997Z"
    }
   },
   "outputs": [
    {
     "name": "stderr",
     "output_type": "stream",
     "text": [
      "/home/aiden/anaconda3/lib/python3.7/site-packages/sklearn/externals/joblib/__init__.py:15: DeprecationWarning: sklearn.externals.joblib is deprecated in 0.21 and will be removed in 0.23. Please import this functionality directly from joblib, which can be installed with: pip install joblib. If this warning is raised when loading pickled models, you may need to re-serialize those models with scikit-learn 0.21+.\n",
      "  warnings.warn(msg, category=DeprecationWarning)\n"
     ]
    }
   ],
   "source": [
    "import os\n",
    "import pandas as pd \n",
    "import numpy as np\n",
    "import multiprocessing # 여러 개의 일꾼 (cpu)들에게 작업을 분산시키는 역할\n",
    "from multiprocessing import Pool \n",
    "from functools import partial # 함수가 받는 인자들 중 몇개를 고정 시켜서 새롭게 파생된 함수를 형성하는 역할\n",
    "from data_loader import data_loader_v2 # 자체적으로 만든 data loader version 2.0 ([데이콘 15회 대회] 데이터 설명 및 데이터 불러오기 영상 참조)\n",
    "\n",
    "from sklearn.ensemble import RandomForestClassifier\n",
    "import joblib # 모델을 저장하고 불러오는 역\n",
    "from datetime import datetime\n",
    "\n",
    "import lightgbm as lgb\n",
    "import xgboost as xgb\n",
    "\n",
    "from sklearn.model_selection import train_test_split\n",
    "from sklearn.model_selection import StratifiedKFold\n",
    "from tqdm import tqdm_notebook\n",
    "\n",
    "from sklearn.metrics import log_loss\n",
    "\n",
    "from tools import eval_summary, save_feature_importance, merge_preds, report\n",
    "\n"
   ]
  },
  {
   "cell_type": "code",
   "execution_count": 2,
   "metadata": {
    "ExecuteTime": {
     "end_time": "2020-02-10T09:29:33.632920Z",
     "start_time": "2020-02-10T09:29:33.628459Z"
    }
   },
   "outputs": [],
   "source": [
    "train_folder = 'data/train/'\n",
    "test_folder = 'data/test/'\n",
    "train_label_path = 'data/train_label.csv'\n",
    "\n",
    "train_list = os.listdir(train_folder)\n",
    "test_list = os.listdir(test_folder)\n",
    "train_label = pd.read_csv(train_label_path, index_col=0)"
   ]
  },
  {
   "cell_type": "code",
   "execution_count": 3,
   "metadata": {
    "ExecuteTime": {
     "end_time": "2020-02-10T09:29:33.660553Z",
     "start_time": "2020-02-10T09:29:33.657898Z"
    }
   },
   "outputs": [],
   "source": [
    "num_class = len(train_label['label'].unique())"
   ]
  },
  {
   "cell_type": "code",
   "execution_count": 4,
   "metadata": {
    "ExecuteTime": {
     "end_time": "2020-02-10T09:29:34.183411Z",
     "start_time": "2020-02-10T09:29:34.178433Z"
    }
   },
   "outputs": [],
   "source": [
    "# 모든 csv 파일의 상태_B로 변화는 시점이 같다라고 가정\n",
    "# 하지만, 개별 csv파일의 상태_B로 변화는 시점은 상이할 수 있음\n",
    "def data_loader_all_v2(func, files, folder='', train_label=None, event_time=10, nrows=60):   \n",
    "    func_fixed = partial(func, folder=folder, train_label=train_label, event_time=event_time, nrows=nrows)     \n",
    "    if __name__ == '__main__':\n",
    "        pool = Pool(processes=multiprocessing.cpu_count()-2) \n",
    "        df_list = list(pool.imap(func_fixed, files)) \n",
    "        pool.close()\n",
    "        pool.join()        \n",
    "    combined_df = pd.concat(df_list)    \n",
    "    return combined_df"
   ]
  },
  {
   "cell_type": "code",
   "execution_count": 5,
   "metadata": {
    "ExecuteTime": {
     "end_time": "2020-02-10T09:29:34.685285Z",
     "start_time": "2020-02-10T09:29:34.683493Z"
    }
   },
   "outputs": [],
   "source": [
    "# event_time = 10\n",
    "# nrows = 30\n",
    "# train = data_loader_all_v2(data_loader_v2, train_list, folder=train_folder, train_label=train_label, \n",
    "#                            event_time=event_time, nrows=nrows)\n",
    "# print(train.shape)\n",
    "# joblib.dump(train, 'data/df_train_{}_{}.pkl'.format(event_time, nrows))"
   ]
  },
  {
   "cell_type": "code",
   "execution_count": 6,
   "metadata": {
    "ExecuteTime": {
     "end_time": "2020-02-10T09:29:37.110102Z",
     "start_time": "2020-02-10T09:29:35.521517Z"
    }
   },
   "outputs": [],
   "source": [
    "train = joblib.load('data/df_train_10_60.pkl').reset_index()"
   ]
  },
  {
   "cell_type": "code",
   "execution_count": 7,
   "metadata": {
    "ExecuteTime": {
     "end_time": "2020-02-10T09:29:37.112224Z",
     "start_time": "2020-02-10T09:29:37.110946Z"
    }
   },
   "outputs": [],
   "source": [
    "# event_time = 10\n",
    "# nrows = 200\n",
    "# test = data_loader_all_v2(data_loader_v2, test_list, folder=test_folder, train_label=None, event_time=event_time, nrows=nrows)\n",
    "# print(test.shape)\n",
    "# joblib.dump(train, 'data/df_test_{}_{}.pkl'.format(event_time, nrows))"
   ]
  },
  {
   "cell_type": "code",
   "execution_count": 8,
   "metadata": {
    "ExecuteTime": {
     "end_time": "2020-02-10T09:29:37.852806Z",
     "start_time": "2020-02-10T09:29:37.112973Z"
    }
   },
   "outputs": [],
   "source": [
    "test = joblib.load('data/df_test_10.pkl')"
   ]
  },
  {
   "cell_type": "code",
   "execution_count": 9,
   "metadata": {
    "ExecuteTime": {
     "end_time": "2020-02-10T09:29:37.859545Z",
     "start_time": "2020-02-10T09:29:37.853697Z"
    }
   },
   "outputs": [
    {
     "data": {
      "text/plain": [
       "5121"
      ]
     },
     "execution_count": 9,
     "metadata": {},
     "output_type": "execute_result"
    }
   ],
   "source": [
    "fea_cols = [c for c in train.columns if c[0] == 'V']\n",
    "len(fea_cols)"
   ]
  },
  {
   "cell_type": "code",
   "execution_count": 10,
   "metadata": {
    "ExecuteTime": {
     "end_time": "2020-02-10T09:29:37.978598Z",
     "start_time": "2020-02-10T09:29:37.860127Z"
    }
   },
   "outputs": [],
   "source": [
    "zero_cols = joblib.load('zero_cols.bin')\n",
    "fea_cols = [c for c in fea_cols if c not in zero_cols]"
   ]
  },
  {
   "cell_type": "code",
   "execution_count": 11,
   "metadata": {
    "ExecuteTime": {
     "end_time": "2020-02-10T09:29:37.980888Z",
     "start_time": "2020-02-10T09:29:37.979366Z"
    }
   },
   "outputs": [],
   "source": [
    "# use_cols = joblib.load('use_cols.bin')\n",
    "# fea_cols = use_cols[:10]"
   ]
  },
  {
   "cell_type": "code",
   "execution_count": 12,
   "metadata": {
    "ExecuteTime": {
     "end_time": "2020-02-10T09:29:37.989191Z",
     "start_time": "2020-02-10T09:29:37.982052Z"
    }
   },
   "outputs": [],
   "source": [
    "# fea_cols = zero_cols"
   ]
  },
  {
   "cell_type": "code",
   "execution_count": 13,
   "metadata": {
    "ExecuteTime": {
     "end_time": "2020-02-10T09:29:38.346733Z",
     "start_time": "2020-02-10T09:29:38.343300Z"
    }
   },
   "outputs": [
    {
     "data": {
      "text/plain": [
       "2730"
      ]
     },
     "execution_count": 13,
     "metadata": {},
     "output_type": "execute_result"
    }
   ],
   "source": [
    "len(fea_cols)"
   ]
  },
  {
   "cell_type": "code",
   "execution_count": 14,
   "metadata": {
    "ExecuteTime": {
     "end_time": "2020-02-10T09:29:39.151362Z",
     "start_time": "2020-02-10T09:29:39.142972Z"
    }
   },
   "outputs": [
    {
     "data": {
      "text/plain": [
       "110    1200\n",
       "17     1050\n",
       "114    1000\n",
       "118    1000\n",
       "117     950\n",
       "       ... \n",
       "137      50\n",
       "52       50\n",
       "51       50\n",
       "42       50\n",
       "191      50\n",
       "Name: label, Length: 198, dtype: int64"
      ]
     },
     "execution_count": 14,
     "metadata": {},
     "output_type": "execute_result"
    }
   ],
   "source": [
    "train['label'].value_counts(dropna=False)"
   ]
  },
  {
   "cell_type": "code",
   "execution_count": 15,
   "metadata": {
    "ExecuteTime": {
     "end_time": "2020-02-10T09:29:40.997815Z",
     "start_time": "2020-02-10T09:29:40.991783Z"
    }
   },
   "outputs": [
    {
     "name": "stdout",
     "output_type": "stream",
     "text": [
      "model_ts 20200210T182940\n",
      "{'max_depth': 3, 'eta': 0.01, 'silent': 1, 'objective': 'multi:softprob', 'eval_metric': 'mlogloss', 'num_class': 198, 'gpu_id': 0, 'tree_method': 'gpu_hist', 'nthread': 16, 'colsample_bytree': 0.5, 'colsample_bylevel': 0.5, 'colsample_bynode': 0.5, 'max_leaves': 15}\n",
      "num_round: 10000\n"
     ]
    }
   ],
   "source": [
    "model_ts = datetime.now().strftime('%Y%m%dT%H%M%S')\n",
    "print('model_ts', model_ts)\n",
    "\n",
    "\n",
    "params = {\n",
    "    'max_depth': 3,  # the maximum depth of each tree\n",
    "    'eta': 0.01,  # the training step for each iteration\n",
    "    'silent':1,  # logging mode - quiet\n",
    "    'objective': 'multi:softprob',  # error evaluation for multiclass training\n",
    "    'eval_metric': 'mlogloss',\n",
    "    'num_class': 198,\n",
    "    'gpu_id': 0,\n",
    "    'tree_method': 'gpu_hist',\n",
    "    'nthread': 16,\n",
    "    'colsample_bytree':0.5,\n",
    "    'colsample_bylevel':0.5,\n",
    "    'colsample_bynode':0.5,\n",
    "    'max_leaves': 15,\n",
    "    \n",
    "}\n",
    "print(params)\n",
    "\n",
    "num_round = 10000\n",
    "print('num_round:', num_round)"
   ]
  },
  {
   "cell_type": "code",
   "execution_count": null,
   "metadata": {
    "ExecuteTime": {
     "start_time": "2020-02-10T09:30:29.198Z"
    }
   },
   "outputs": [
    {
     "data": {
      "application/vnd.jupyter.widget-view+json": {
       "model_id": "04394da6e0964158a9a5488d851a45ee",
       "version_major": 2,
       "version_minor": 0
      },
      "text/plain": [
       "HBox(children=(IntProgress(value=0, description='CV', max=10, style=ProgressStyle(description_width='initial')…"
      ]
     },
     "metadata": {},
     "output_type": "display_data"
    },
    {
     "name": "stdout",
     "output_type": "stream",
     "text": [
      "(37260, 2730) (4140, 2730)\n"
     ]
    },
    {
     "name": "stderr",
     "output_type": "stream",
     "text": [
      "/home/aiden/anaconda3/lib/python3.7/site-packages/xgboost/core.py:587: FutureWarning: Series.base is deprecated and will be removed in a future version\n",
      "  if getattr(data, 'base', None) is not None and \\\n"
     ]
    },
    {
     "name": "stdout",
     "output_type": "stream",
     "text": [
      "[0]\ttraining-mlogloss:4.79772\tvalid_1-mlogloss:4.80399\n",
      "Multiple eval metrics have been passed: 'valid_1-mlogloss' will be used for early stopping.\n",
      "\n",
      "Will train until valid_1-mlogloss hasn't improved in 100 rounds.\n",
      "[50]\ttraining-mlogloss:1.92909\tvalid_1-mlogloss:1.99853\n",
      "[100]\ttraining-mlogloss:1.28181\tvalid_1-mlogloss:1.36929\n",
      "[150]\ttraining-mlogloss:0.931016\tvalid_1-mlogloss:1.03076\n",
      "[200]\ttraining-mlogloss:0.710379\tvalid_1-mlogloss:0.820445\n",
      "[250]\ttraining-mlogloss:0.560895\tvalid_1-mlogloss:0.680677\n",
      "[300]\ttraining-mlogloss:0.454395\tvalid_1-mlogloss:0.584545\n",
      "[350]\ttraining-mlogloss:0.375555\tvalid_1-mlogloss:0.516369\n",
      "[400]\ttraining-mlogloss:0.315478\tvalid_1-mlogloss:0.466308\n",
      "[450]\ttraining-mlogloss:0.268386\tvalid_1-mlogloss:0.429398\n",
      "[500]\ttraining-mlogloss:0.230798\tvalid_1-mlogloss:0.401318\n",
      "[550]\ttraining-mlogloss:0.200215\tvalid_1-mlogloss:0.379893\n",
      "[600]\ttraining-mlogloss:0.175286\tvalid_1-mlogloss:0.36341\n",
      "[650]\ttraining-mlogloss:0.154333\tvalid_1-mlogloss:0.350305\n",
      "[700]\ttraining-mlogloss:0.136672\tvalid_1-mlogloss:0.340156\n",
      "[750]\ttraining-mlogloss:0.12163\tvalid_1-mlogloss:0.332039\n",
      "[800]\ttraining-mlogloss:0.108827\tvalid_1-mlogloss:0.325787\n",
      "[850]\ttraining-mlogloss:0.097782\tvalid_1-mlogloss:0.320609\n",
      "[900]\ttraining-mlogloss:0.088341\tvalid_1-mlogloss:0.316307\n",
      "[950]\ttraining-mlogloss:0.080077\tvalid_1-mlogloss:0.312692\n"
     ]
    }
   ],
   "source": [
    "submit_csv = []\n",
    "n_splits = 10\n",
    "skf = StratifiedKFold(n_splits=n_splits, random_state=81511991154 % 2**32-1, shuffle=True)\n",
    "\n",
    "cv = 0\n",
    "for train_index, valid_index in tqdm_notebook(skf.split(train.index, train['label'].values), total=n_splits, desc = 'CV'):\n",
    "    \n",
    "    X_train, X_test = train.loc[train_index, fea_cols], train.loc[valid_index, fea_cols] \n",
    "    y_train, y_test = train.loc[train_index,'label'], train.loc[valid_index, 'label']    \n",
    "    \n",
    "    print(X_train.shape, X_test.shape)\n",
    "#     print(y_train.value_counts(dropna=False))\n",
    "#     print(y_test.value_counts(dropna=False))\n",
    "\n",
    "    train_set = xgb.DMatrix(X_train, label=y_train)\n",
    "    val_set = xgb.DMatrix(X_test, label=y_test, )\n",
    "\n",
    "    evals_result = {}\n",
    "    \n",
    "    watchlist = [(train_set, 'training'), (val_set, 'valid_1')]\n",
    "\n",
    "    model = xgb.train(params, train_set, num_boost_round=num_round,\n",
    "                    early_stopping_rounds=100, evals=watchlist, \n",
    "                      evals_result=evals_result, verbose_eval=50,\n",
    "#                       xgb_model=model\n",
    "                     )\n",
    "\n",
    "\n",
    "    model_tag ='{}xgb_{}_{}_{}'.format(model_ts, cv, \n",
    "                                 evals_result['valid_1']['mlogloss'][model.best_iteration-1],\n",
    "                                 evals_result['training']['mlogloss'][model.best_iteration-1]\n",
    "                                )\n",
    "    print(model_tag)\n",
    "\n",
    "    joblib.dump(model, 'model/{}.model'.format(model_tag))\n",
    "    break"
   ]
  },
  {
   "cell_type": "code",
   "execution_count": null,
   "metadata": {
    "ExecuteTime": {
     "start_time": "2020-02-10T09:30:30.061Z"
    },
    "scrolled": true
   },
   "outputs": [],
   "source": [
    "test_set = xgb.DMatrix(test[fea_cols])\n",
    "pred = model.predict(test_set)\n",
    "\n",
    "submission = pd.DataFrame(data=pred)\n",
    "submission.index = test.index\n",
    "submission.index.name = 'id'\n",
    "submission = submission.sort_index()\n",
    "submission = submission.groupby('id').mean()\n",
    "\n",
    "csv_path = 'submit/{}.csv'.format(model_tag)\n",
    "submit_csv.append(csv_path)\n",
    "submission.to_csv(csv_path, index=True) \n",
    "\n",
    "print(submission.sum(axis=1))\n",
    "print(submission)\n",
    "cv += 1\n",
    "#     break"
   ]
  },
  {
   "cell_type": "code",
   "execution_count": null,
   "metadata": {
    "ExecuteTime": {
     "end_time": "2020-02-07T12:55:45.240676Z",
     "start_time": "2020-02-07T12:46:53.533Z"
    }
   },
   "outputs": [],
   "source": [
    "# submissions = [\n",
    "# 'submit/20200201T193822_0.42165222105307115_0.03657010393259738.csv',\n",
    "# 'submit/20200201T183544_0.4354487978488266_0.04354968619883053.csv',\n",
    "# 'submit/20200201T173725_0.423066834354457_0.03614391993976106.csv',\n",
    "# 'submit/20200201T163343_0.4287587567261741_0.042392138498467166.csv',\n",
    "# 'submit/20200201T153529_0.42326652930531944_0.04098269988118284.csv',\n",
    "# 'submit/20200201T143616_0.4258237823312355_0.04651153387555587.csv',\n",
    "# 'submit/20200201T134047_0.43147156765580946_0.043682031170534714.csv',\n",
    "# 'submit/20200201T125939_0.42958065644660504_0.040012625819045466.csv',\n",
    "# 'submit/20200201T120739_0.42070899280425217_0.03477196302416032.csv',\n",
    "# 'submit/20200201T110556_0.4181683365658109_0.043843902710973416.csv',\n",
    "# ]\n",
    "\n",
    "\n",
    "dfs = [pd.read_csv(s) for s in submit_csv]\n",
    "\n",
    "df_submit = pd.concat(dfs)\n",
    "\n",
    "df_submit = df_submit.groupby('id').mean()\n",
    "\n",
    "df_submit.to_csv('submit/{}_e{}.csv'.format(model_ts, n_splits), index=True) "
   ]
  },
  {
   "cell_type": "code",
   "execution_count": null,
   "metadata": {
    "ExecuteTime": {
     "end_time": "2020-02-07T12:55:45.241249Z",
     "start_time": "2020-02-07T12:46:54.419Z"
    }
   },
   "outputs": [],
   "source": [
    "df_submit.sum(1)"
   ]
  },
  {
   "cell_type": "code",
   "execution_count": null,
   "metadata": {
    "ExecuteTime": {
     "end_time": "2020-02-06T01:41:26.497335Z",
     "start_time": "2020-02-06T01:01:04.458Z"
    }
   },
   "outputs": [],
   "source": [
    "importance_type = 'split'\n",
    "impt_dict = {k:v for k, v in zip(fea_cols, model.feature_importance(importance_type=importance_type))}\n",
    "# sorted(impt_dict.items(), key=(lambda x:x[1]), reverse=True)\n",
    "# zero_cols = []\n",
    "for k, s in sorted(impt_dict.items(), key=(lambda x:x[1]), reverse=False):\n",
    "    if s == 0:\n",
    "        zero_cols.append(k)\n",
    "# joblib.dump(impt_dict, f'model/{file_name}_{importance_type}.pkl')\n",
    "\n",
    "len(zero_cols)"
   ]
  },
  {
   "cell_type": "code",
   "execution_count": null,
   "metadata": {
    "ExecuteTime": {
     "end_time": "2020-02-06T01:41:26.498127Z",
     "start_time": "2020-02-06T01:01:04.460Z"
    },
    "scrolled": true
   },
   "outputs": [],
   "source": [
    "joblib.dump(zero_cols, 'zero_cols.bin')"
   ]
  },
  {
   "cell_type": "code",
   "execution_count": null,
   "metadata": {
    "ExecuteTime": {
     "end_time": "2020-02-06T01:41:26.498908Z",
     "start_time": "2020-02-06T01:01:04.462Z"
    }
   },
   "outputs": [],
   "source": [
    "# model = joblib.load('model/20200130T221520_2.4393985000913667_0.07225009557115544.model')"
   ]
  },
  {
   "cell_type": "code",
   "execution_count": null,
   "metadata": {
    "ExecuteTime": {
     "end_time": "2020-02-06T01:41:26.499677Z",
     "start_time": "2020-02-06T01:01:04.464Z"
    },
    "scrolled": true
   },
   "outputs": [],
   "source": [
    "# pred = model.predict(test)\n",
    "\n",
    "# submission = pd.DataFrame(data=pred)\n",
    "# submission.index = test.index\n",
    "# submission.index.name = 'id'\n",
    "# submission = submission.sort_index()\n",
    "# submission = submission.groupby('id').mean()\n",
    "\n",
    "# submission.to_csv('submit/{}.csv'.format(model_tag), index=True) \n",
    "# model_tag\n",
    "\n",
    "# submission.sum(axis=1)\n",
    "\n",
    "# submission"
   ]
  },
  {
   "cell_type": "code",
   "execution_count": null,
   "metadata": {},
   "outputs": [],
   "source": []
  }
 ],
 "metadata": {
  "kernelspec": {
   "display_name": "Python 3",
   "language": "python",
   "name": "python3"
  },
  "language_info": {
   "codemirror_mode": {
    "name": "ipython",
    "version": 3
   },
   "file_extension": ".py",
   "mimetype": "text/x-python",
   "name": "python",
   "nbconvert_exporter": "python",
   "pygments_lexer": "ipython3",
   "version": "3.7.4"
  },
  "toc": {
   "base_numbering": 1,
   "nav_menu": {},
   "number_sections": true,
   "sideBar": true,
   "skip_h1_title": false,
   "title_cell": "Table of Contents",
   "title_sidebar": "Contents",
   "toc_cell": false,
   "toc_position": {},
   "toc_section_display": true,
   "toc_window_display": false
  }
 },
 "nbformat": 4,
 "nbformat_minor": 2
}
